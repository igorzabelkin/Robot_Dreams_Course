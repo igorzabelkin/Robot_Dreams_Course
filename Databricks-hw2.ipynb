{
 "cells": [
  {
   "cell_type": "code",
   "execution_count": 0,
   "metadata": {
    "application/vnd.databricks.v1+cell": {
     "cellMetadata": {
      "byteLimit": 2048000,
      "rowLimit": 10000
     },
     "inputWidgets": {},
     "nuid": "1d063087-6a3d-48c2-9df0-49e99a33814e",
     "showTitle": false,
     "tableResultSettingsMap": {
      "0": {
       "dataGridStateBlob": "{\"version\":1,\"tableState\":{\"columnPinning\":{\"left\":[\"#row_number#\"],\"right\":[]},\"columnSizing\":{\"mountPoint\":276,\"source\":300},\"columnVisibility\":{}},\"settings\":{\"columns\":{}},\"syncTimestamp\":1753455239393}",
       "filterBlob": null,
       "queryPlanFiltersBlob": null,
       "tableResultIndex": 0
      }
     },
     "title": ""
    }
   },
   "outputs": [],
   "source": [
    "df = spark.read.csv('/mnt/robot-dreams-source-mount/Lecture_3/nyc_taxi/taxi_zone_lookup.csv', header=True, inferSchema=True)\n",
    "display(df)\n",
    "\n"
   ]
  },
  {
   "cell_type": "code",
   "execution_count": 0,
   "metadata": {
    "application/vnd.databricks.v1+cell": {
     "cellMetadata": {
      "byteLimit": 2048000,
      "implicitDf": true,
      "rowLimit": 10000
     },
     "inputWidgets": {},
     "nuid": "6de0c4d5-fb25-4dce-8b7d-9482bb1ce8e1",
     "showTitle": false,
     "tableResultSettingsMap": {},
     "title": ""
    }
   },
   "outputs": [],
   "source": [
    "%sql\n",
    "CREATE CATALOG igor_zabelkin_nyc_catalog\n",
    "MANAGED LOCATION 's3://izabelkin-emr-databricks/igor_zabelkin_nyc_catalog/';\n"
   ]
  },
  {
   "cell_type": "code",
   "execution_count": 0,
   "metadata": {
    "application/vnd.databricks.v1+cell": {
     "cellMetadata": {
      "byteLimit": 2048000,
      "implicitDf": true,
      "rowLimit": 10000
     },
     "inputWidgets": {},
     "nuid": "2f5d0cee-7996-4ae3-b450-3d726109eba7",
     "showTitle": false,
     "tableResultSettingsMap": {},
     "title": ""
    }
   },
   "outputs": [],
   "source": [
    "%sql\n",
    "USE CATALOG igor_zabelkin_nyc_catalog;\n"
   ]
  },
  {
   "cell_type": "code",
   "execution_count": 0,
   "metadata": {
    "application/vnd.databricks.v1+cell": {
     "cellMetadata": {
      "byteLimit": 2048000,
      "implicitDf": true,
      "rowLimit": 10000
     },
     "inputWidgets": {},
     "nuid": "dd3b3eaf-a573-4b17-a8b1-a6e2aee07eb3",
     "showTitle": false,
     "tableResultSettingsMap": {},
     "title": ""
    }
   },
   "outputs": [],
   "source": [
    "%sql\n",
    "CREATE SCHEMA trips_schema;\n"
   ]
  },
  {
   "cell_type": "code",
   "execution_count": 0,
   "metadata": {
    "application/vnd.databricks.v1+cell": {
     "cellMetadata": {
      "byteLimit": 2048000,
      "implicitDf": true,
      "rowLimit": 10000
     },
     "inputWidgets": {},
     "nuid": "b87c3227-eee5-46a5-96f3-82cc72084f6a",
     "showTitle": false,
     "tableResultSettingsMap": {},
     "title": ""
    }
   },
   "outputs": [],
   "source": [
    "%sql\n",
    "USE SCHEMA trips_schema;"
   ]
  },
  {
   "cell_type": "code",
   "execution_count": 0,
   "metadata": {
    "application/vnd.databricks.v1+cell": {
     "cellMetadata": {
      "byteLimit": 2048000,
      "rowLimit": 10000
     },
     "inputWidgets": {},
     "nuid": "23492c87-54f5-4c78-a8e6-7ee2b57cd414",
     "showTitle": false,
     "tableResultSettingsMap": {},
     "title": ""
    }
   },
   "outputs": [],
   "source": [
    "YELLOW_PATH = \"/mnt/robot-dreams-source-mount/home-work-1-unified/nyc_taxi/yellow/\"\n",
    "GREEN_PATH = \"/mnt/robot-dreams-source-mount/home-work-1-unified/nyc_taxi/green/\"\n",
    "ZONES_PATH = \"/mnt/robot-dreams-source-mount/home-work-1-unified/nyc_taxi/taxi_zone_lookup.csv\"\n",
    "\n",
    "yellow_df = spark.read.option(\"recursiveFileLookup\", \"true\").parquet(YELLOW_PATH)\n",
    "green_df = spark.read.option(\"recursiveFileLookup\", \"true\").parquet(GREEN_PATH)\n",
    "#zones_df = spark.read.option(\"header\", \"true\").csv(ZONES_PATH)\n"
   ]
  },
  {
   "cell_type": "code",
   "execution_count": 0,
   "metadata": {
    "application/vnd.databricks.v1+cell": {
     "cellMetadata": {
      "byteLimit": 2048000,
      "rowLimit": 10000
     },
     "inputWidgets": {},
     "nuid": "a9cf23e2-4dbf-4655-9976-c916c6b02c39",
     "showTitle": false,
     "tableResultSettingsMap": {},
     "title": ""
    }
   },
   "outputs": [],
   "source": [
    "from pyspark.sql.functions import col, lit\n",
    "yellow_df = yellow_df.withColumn(\"taxi_type\", lit(\"yellow\"))\n",
    "green_df = green_df.withColumn(\"taxi_type\", lit(\"green\"))\n"
   ]
  },
  {
   "cell_type": "code",
   "execution_count": 0,
   "metadata": {
    "application/vnd.databricks.v1+cell": {
     "cellMetadata": {
      "byteLimit": 2048000,
      "rowLimit": 10000
     },
     "inputWidgets": {},
     "nuid": "f6896d90-91c6-4d50-bd16-0d21b23db8ee",
     "showTitle": false,
     "tableResultSettingsMap": {},
     "title": ""
    }
   },
   "outputs": [],
   "source": [
    "trips_df = yellow_df.unionByName(green_df)\n"
   ]
  },
  {
   "cell_type": "code",
   "execution_count": 0,
   "metadata": {
    "application/vnd.databricks.v1+cell": {
     "cellMetadata": {
      "byteLimit": 2048000,
      "rowLimit": 10000
     },
     "inputWidgets": {},
     "nuid": "253dbf1c-f1ac-4a4a-bd00-ea52619244cc",
     "showTitle": false,
     "tableResultSettingsMap": {},
     "title": ""
    }
   },
   "outputs": [],
   "source": [
    "from pyspark.sql.functions import unix_timestamp\n",
    "\n",
    "trips_df = trips_df.withColumn(\n",
    "    \"duration_min\",\n",
    "    (unix_timestamp(\"tpep_dropoff_datetime\") - unix_timestamp(\"tpep_pickup_datetime\")) / 60\n",
    ")\n",
    "\n",
    "trips_df = trips_df.filter(\n",
    "    (col(\"trip_distance\") >= 0.1) &\n",
    "    (col(\"fare_amount\") >= 2.0) &\n",
    "    (col(\"duration_min\") >= 1.0)\n",
    ")\n"
   ]
  },
  {
   "cell_type": "code",
   "execution_count": 0,
   "metadata": {
    "application/vnd.databricks.v1+cell": {
     "cellMetadata": {
      "byteLimit": 2048000,
      "rowLimit": 10000
     },
     "inputWidgets": {},
     "nuid": "95ebfd21-36d0-4e35-a91b-4393049111c2",
     "showTitle": false,
     "tableResultSettingsMap": {},
     "title": ""
    }
   },
   "outputs": [],
   "source": [
    "from pyspark.sql.functions import hour, date_format\n",
    "\n",
    "trips_df = trips_df \\\n",
    "    .withColumn(\"pickup_hour\", hour(\"tpep_pickup_datetime\")) \\\n",
    "    .withColumn(\"pickup_day_of_week\", date_format(\"tpep_pickup_datetime\", \"E\"))\n"
   ]
  },
  {
   "cell_type": "code",
   "execution_count": 0,
   "metadata": {
    "application/vnd.databricks.v1+cell": {
     "cellMetadata": {
      "byteLimit": 2048000,
      "rowLimit": 10000
     },
     "inputWidgets": {},
     "nuid": "3540f6c5-007c-417b-b04c-a3d3de829a0c",
     "showTitle": false,
     "tableResultSettingsMap": {},
     "title": ""
    }
   },
   "outputs": [],
   "source": [
    "taxi_zones_df = spark.read.option(\"header\", True).csv(\n",
    "    \"s3a://robot-dreams-source-data/Lecture_3/nyc_taxi/taxi_zone_lookup.csv\"\n",
    ")\n",
    "\n",
    "# JOIN для pickup_zone\n",
    "trips_df = trips_df.join(\n",
    "    taxi_zones_df.withColumnRenamed(\"LocationID\", \"PULocationID\")\n",
    "                 .withColumnRenamed(\"Zone\", \"tpep_pickup_zone\"),\n",
    "    on=\"PULocationID\",\n",
    "    how=\"left\"\n",
    ")\n",
    "\n",
    "# JOIN для dropoff_zone\n",
    "trips_df = trips_df.join(\n",
    "    taxi_zones_df.withColumnRenamed(\"LocationID\", \"DOLocationID\")\n",
    "                 .withColumnRenamed(\"Zone\", \"tpep_dropoff_zone\"),\n",
    "    on=\"DOLocationID\",\n",
    "    how=\"left\"\n",
    ")\n",
    "\n",
    "\n"
   ]
  },
  {
   "cell_type": "code",
   "execution_count": 0,
   "metadata": {
    "application/vnd.databricks.v1+cell": {
     "cellMetadata": {
      "byteLimit": 2048000,
      "rowLimit": 10000
     },
     "inputWidgets": {},
     "nuid": "b77ea533-6e2e-41f7-ac21-4407f9bea0eb",
     "showTitle": false,
     "tableResultSettingsMap": {},
     "title": ""
    }
   },
   "outputs": [],
   "source": [
    "trips_df.write.format(\"delta\").mode(\"overwrite\").saveAsTable(\"igor_zabelkin_nyc_catalog.trips_schema.raw_trips\")\n",
    "\n",
    "\n"
   ]
  },
  {
   "cell_type": "code",
   "execution_count": 0,
   "metadata": {
    "application/vnd.databricks.v1+cell": {
     "cellMetadata": {
      "byteLimit": 2048000,
      "implicitDf": true,
      "rowLimit": 10000
     },
     "inputWidgets": {},
     "nuid": "1a0bc1cb-4020-4fc2-a597-c8c9392e2b0f",
     "showTitle": false,
     "tableResultSettingsMap": {},
     "title": ""
    }
   },
   "outputs": [],
   "source": [
    "%sql\n",
    "SELECT * \n",
    "FROM igor_zabelkin_nyc_catalog.trips_schema.raw_trips\n",
    "LIMIT 10;\n"
   ]
  },
  {
   "cell_type": "code",
   "execution_count": 0,
   "metadata": {
    "application/vnd.databricks.v1+cell": {
     "cellMetadata": {
      "byteLimit": 2048000,
      "rowLimit": 10000
     },
     "inputWidgets": {},
     "nuid": "88c184b5-3e82-45af-876b-e07e790bfffd",
     "showTitle": false,
     "tableResultSettingsMap": {},
     "title": ""
    }
   },
   "outputs": [],
   "source": [
    "from pyspark.sql.functions import (\n",
    "    col, count, avg, max, min, sum as _sum, expr\n",
    ")\n",
    "\n",
    "zone_summary_df = trips_df.groupBy(\"tpep_pickup_zone\").agg(\n",
    "  count(\"*\").alias(\"total_trips\"),\n",
    "    avg(\"trip_distance\").alias(\"avg_trip_distance\"),\n",
    "    avg(\"total_amount\").alias(\"avg_total_amount\"),\n",
    "    avg(\"tip_amount\").alias(\"avg_tip_amount\"),\n",
    "    _sum(expr(\"CASE WHEN taxi_type = 'yellow' THEN 1 ELSE 0 END\")).alias(\"yellow_trips\"),\n",
    "    _sum(expr(\"CASE WHEN taxi_type = 'green' THEN 1 ELSE 0 END\")).alias(\"green_trips\"),\n",
    "    max(\"trip_distance\").alias(\"max_trip_distance\"),\n",
    "    min(\"tip_amount\").alias(\"min_tip_amount\"),\n",
    "    _sum(\"total_amount\").alias(\"total_trip_amount\")\n",
    ").withColumn(\n",
    "    \"yellow_share\", col(\"yellow_trips\") / col(\"total_trips\")\n",
    ").withColumn(\n",
    "    \"green_share\", col(\"green_trips\") / col(\"total_trips\")\n",
    ").drop(\"yellow_trips\", \"green_trips\")\n"
   ]
  },
  {
   "cell_type": "code",
   "execution_count": 0,
   "metadata": {
    "application/vnd.databricks.v1+cell": {
     "cellMetadata": {
      "byteLimit": 2048000,
      "rowLimit": 10000
     },
     "inputWidgets": {},
     "nuid": "ecd12104-460a-43fa-a7ee-e169f5b906ec",
     "showTitle": false,
     "tableResultSettingsMap": {},
     "title": ""
    }
   },
   "outputs": [],
   "source": [
    "zone_summary_df.write.format(\"delta\") \\\n",
    "    .mode(\"overwrite\") \\\n",
    "    .saveAsTable(\"igor_zabelkin_nyc_catalog.trips_schema.zone_summary\")\n"
   ]
  },
  {
   "cell_type": "code",
   "execution_count": 0,
   "metadata": {
    "application/vnd.databricks.v1+cell": {
     "cellMetadata": {
      "byteLimit": 2048000,
      "implicitDf": true,
      "rowLimit": 10000
     },
     "inputWidgets": {},
     "nuid": "291228b8-9665-4c72-b5ed-093cf2ec7fcc",
     "showTitle": false,
     "tableResultSettingsMap": {},
     "title": ""
    }
   },
   "outputs": [],
   "source": [
    "%sql\n",
    "SELECT * \n",
    "FROM igor_zabelkin_nyc_catalog.trips_schema.zone_summary\n",
    "LIMIT 10;"
   ]
  },
  {
   "cell_type": "code",
   "execution_count": 0,
   "metadata": {
    "application/vnd.databricks.v1+cell": {
     "cellMetadata": {
      "byteLimit": 2048000,
      "rowLimit": 10000
     },
     "inputWidgets": {},
     "nuid": "38f2bb3a-369e-41a2-94a4-e93388767b4c",
     "showTitle": false,
     "tableResultSettingsMap": {},
     "title": ""
    }
   },
   "outputs": [],
   "source": [
    "from pyspark.sql.functions import col, when, count, avg, sum as _sum\n",
    "\n",
    "# Створення колонки is_high_fare\n",
    "trips_df = trips_df.withColumn(\"is_high_fare\", when(col(\"fare_amount\") > 30, 1).otherwise(0))\n",
    "\n",
    "# Агрегація по pickup_day_of_week\n",
    "agg_by_day_df = trips_df.groupBy(\"pickup_day_of_week\").agg(\n",
    "    count(\"*\").alias(\"total_trips_per_day\"),\n",
    "    avg(\"duration_min\").alias(\"avg_duration_per_zone\"),\n",
    "    (_sum(\"is_high_fare\") / count(\"*\")).alias(\"high_fare_share\")\n",
    ")\n"
   ]
  },
  {
   "cell_type": "code",
   "execution_count": 0,
   "metadata": {
    "application/vnd.databricks.v1+cell": {
     "cellMetadata": {
      "byteLimit": 2048000,
      "rowLimit": 10000
     },
     "inputWidgets": {},
     "nuid": "48e894d5-6ad5-431d-b1af-8cee0e3ede36",
     "showTitle": false,
     "tableResultSettingsMap": {},
     "title": ""
    }
   },
   "outputs": [],
   "source": [
    "agg_by_day_df.write.format(\"delta\") \\\n",
    "    .mode(\"overwrite\") \\\n",
    "    .saveAsTable(\"igor_zabelkin_nyc_catalog.trips_schema.zone_days_summary\")\n"
   ]
  },
  {
   "cell_type": "code",
   "execution_count": 0,
   "metadata": {
    "application/vnd.databricks.v1+cell": {
     "cellMetadata": {
      "byteLimit": 2048000,
      "implicitDf": true,
      "rowLimit": 10000
     },
     "inputWidgets": {},
     "nuid": "ea93e122-d1fa-42d0-9db7-9e20b721d95d",
     "showTitle": false,
     "tableResultSettingsMap": {},
     "title": ""
    }
   },
   "outputs": [],
   "source": [
    "%sql\n",
    "SELECT * \n",
    "FROM igor_zabelkin_nyc_catalog.trips_schema.zone_days_summary\n",
    "LIMIT 10;"
   ]
  }
 ],
 "metadata": {
  "application/vnd.databricks.v1+notebook": {
   "computePreferences": null,
   "dashboards": [],
   "environmentMetadata": {
    "base_environment": "",
    "environment_version": "2"
   },
   "inputWidgetPreferences": null,
   "language": "python",
   "notebookMetadata": {
    "mostRecentlyExecutedCommandWithImplicitDF": {
     "commandId": 6654435268778213,
     "dataframes": [
      "_sqldf"
     ]
    },
    "pythonIndentUnit": 4
   },
   "notebookName": "Untitled Notebook 2025-07-25 17:45:51",
   "widgets": {}
  },
  "language_info": {
   "name": "python"
  }
 },
 "nbformat": 4,
 "nbformat_minor": 0
}
