{
 "cells": [
  {
   "cell_type": "code",
   "execution_count": 0,
   "metadata": {
    "application/vnd.databricks.v1+cell": {
     "cellMetadata": {
      "byteLimit": 2048000,
      "rowLimit": 10000
     },
     "inputWidgets": {},
     "nuid": "1d063087-6a3d-48c2-9df0-49e99a33814e",
     "showTitle": false,
     "tableResultSettingsMap": {
      "0": {
       "dataGridStateBlob": "{\"version\":1,\"tableState\":{\"columnPinning\":{\"left\":[\"#row_number#\"],\"right\":[]},\"columnSizing\":{\"mountPoint\":276,\"source\":300},\"columnVisibility\":{}},\"settings\":{\"columns\":{}},\"syncTimestamp\":1753455239393}",
       "filterBlob": null,
       "queryPlanFiltersBlob": null,
       "tableResultIndex": 0
      }
     },
     "title": ""
    }
   },
   "outputs": [
    {
     "output_type": "display_data",
     "data": {
      "text/html": [
       "<style scoped>\n",
       "  .table-result-container {\n",
       "    max-height: 300px;\n",
       "    overflow: auto;\n",
       "  }\n",
       "  table, th, td {\n",
       "    border: 1px solid black;\n",
       "    border-collapse: collapse;\n",
       "  }\n",
       "  th, td {\n",
       "    padding: 5px;\n",
       "  }\n",
       "  th {\n",
       "    text-align: left;\n",
       "  }\n",
       "</style><div class='table-result-container'><table class='table-result'><thead style='background-color: white'><tr><th>LocationID</th><th>Borough</th><th>Zone</th><th>service_zone</th></tr></thead><tbody><tr><td>1</td><td>EWR</td><td>Newark Airport</td><td>EWR</td></tr><tr><td>2</td><td>Queens</td><td>Jamaica Bay</td><td>Boro Zone</td></tr><tr><td>3</td><td>Bronx</td><td>Allerton/Pelham Gardens</td><td>Boro Zone</td></tr><tr><td>4</td><td>Manhattan</td><td>Alphabet City</td><td>Yellow Zone</td></tr><tr><td>5</td><td>Staten Island</td><td>Arden Heights</td><td>Boro Zone</td></tr><tr><td>6</td><td>Staten Island</td><td>Arrochar/Fort Wadsworth</td><td>Boro Zone</td></tr><tr><td>7</td><td>Queens</td><td>Astoria</td><td>Boro Zone</td></tr><tr><td>8</td><td>Queens</td><td>Astoria Park</td><td>Boro Zone</td></tr><tr><td>9</td><td>Queens</td><td>Auburndale</td><td>Boro Zone</td></tr><tr><td>10</td><td>Queens</td><td>Baisley Park</td><td>Boro Zone</td></tr><tr><td>11</td><td>Brooklyn</td><td>Bath Beach</td><td>Boro Zone</td></tr><tr><td>12</td><td>Manhattan</td><td>Battery Park</td><td>Yellow Zone</td></tr><tr><td>13</td><td>Manhattan</td><td>Battery Park City</td><td>Yellow Zone</td></tr><tr><td>14</td><td>Brooklyn</td><td>Bay Ridge</td><td>Boro Zone</td></tr><tr><td>15</td><td>Queens</td><td>Bay Terrace/Fort Totten</td><td>Boro Zone</td></tr><tr><td>16</td><td>Queens</td><td>Bayside</td><td>Boro Zone</td></tr><tr><td>17</td><td>Brooklyn</td><td>Bedford</td><td>Boro Zone</td></tr><tr><td>18</td><td>Bronx</td><td>Bedford Park</td><td>Boro Zone</td></tr><tr><td>19</td><td>Queens</td><td>Bellerose</td><td>Boro Zone</td></tr><tr><td>20</td><td>Bronx</td><td>Belmont</td><td>Boro Zone</td></tr><tr><td>21</td><td>Brooklyn</td><td>Bensonhurst East</td><td>Boro Zone</td></tr><tr><td>22</td><td>Brooklyn</td><td>Bensonhurst West</td><td>Boro Zone</td></tr><tr><td>23</td><td>Staten Island</td><td>Bloomfield/Emerson Hill</td><td>Boro Zone</td></tr><tr><td>24</td><td>Manhattan</td><td>Bloomingdale</td><td>Yellow Zone</td></tr><tr><td>25</td><td>Brooklyn</td><td>Boerum Hill</td><td>Boro Zone</td></tr><tr><td>26</td><td>Brooklyn</td><td>Borough Park</td><td>Boro Zone</td></tr><tr><td>27</td><td>Queens</td><td>Breezy Point/Fort Tilden/Riis Beach</td><td>Boro Zone</td></tr><tr><td>28</td><td>Queens</td><td>Briarwood/Jamaica Hills</td><td>Boro Zone</td></tr><tr><td>29</td><td>Brooklyn</td><td>Brighton Beach</td><td>Boro Zone</td></tr><tr><td>30</td><td>Queens</td><td>Broad Channel</td><td>Boro Zone</td></tr><tr><td>31</td><td>Bronx</td><td>Bronx Park</td><td>Boro Zone</td></tr><tr><td>32</td><td>Bronx</td><td>Bronxdale</td><td>Boro Zone</td></tr><tr><td>33</td><td>Brooklyn</td><td>Brooklyn Heights</td><td>Boro Zone</td></tr><tr><td>34</td><td>Brooklyn</td><td>Brooklyn Navy Yard</td><td>Boro Zone</td></tr><tr><td>35</td><td>Brooklyn</td><td>Brownsville</td><td>Boro Zone</td></tr><tr><td>36</td><td>Brooklyn</td><td>Bushwick North</td><td>Boro Zone</td></tr><tr><td>37</td><td>Brooklyn</td><td>Bushwick South</td><td>Boro Zone</td></tr><tr><td>38</td><td>Queens</td><td>Cambria Heights</td><td>Boro Zone</td></tr><tr><td>39</td><td>Brooklyn</td><td>Canarsie</td><td>Boro Zone</td></tr><tr><td>40</td><td>Brooklyn</td><td>Carroll Gardens</td><td>Boro Zone</td></tr><tr><td>41</td><td>Manhattan</td><td>Central Harlem</td><td>Boro Zone</td></tr><tr><td>42</td><td>Manhattan</td><td>Central Harlem North</td><td>Boro Zone</td></tr><tr><td>43</td><td>Manhattan</td><td>Central Park</td><td>Yellow Zone</td></tr><tr><td>44</td><td>Staten Island</td><td>Charleston/Tottenville</td><td>Boro Zone</td></tr><tr><td>45</td><td>Manhattan</td><td>Chinatown</td><td>Yellow Zone</td></tr><tr><td>46</td><td>Bronx</td><td>City Island</td><td>Boro Zone</td></tr><tr><td>47</td><td>Bronx</td><td>Claremont/Bathgate</td><td>Boro Zone</td></tr><tr><td>48</td><td>Manhattan</td><td>Clinton East</td><td>Yellow Zone</td></tr><tr><td>49</td><td>Brooklyn</td><td>Clinton Hill</td><td>Boro Zone</td></tr><tr><td>50</td><td>Manhattan</td><td>Clinton West</td><td>Yellow Zone</td></tr><tr><td>51</td><td>Bronx</td><td>Co-Op City</td><td>Boro Zone</td></tr><tr><td>52</td><td>Brooklyn</td><td>Cobble Hill</td><td>Boro Zone</td></tr><tr><td>53</td><td>Queens</td><td>College Point</td><td>Boro Zone</td></tr><tr><td>54</td><td>Brooklyn</td><td>Columbia Street</td><td>Boro Zone</td></tr><tr><td>55</td><td>Brooklyn</td><td>Coney Island</td><td>Boro Zone</td></tr><tr><td>56</td><td>Queens</td><td>Corona</td><td>Boro Zone</td></tr><tr><td>57</td><td>Queens</td><td>Corona</td><td>Boro Zone</td></tr><tr><td>58</td><td>Bronx</td><td>Country Club</td><td>Boro Zone</td></tr><tr><td>59</td><td>Bronx</td><td>Crotona Park</td><td>Boro Zone</td></tr><tr><td>60</td><td>Bronx</td><td>Crotona Park East</td><td>Boro Zone</td></tr><tr><td>61</td><td>Brooklyn</td><td>Crown Heights North</td><td>Boro Zone</td></tr><tr><td>62</td><td>Brooklyn</td><td>Crown Heights South</td><td>Boro Zone</td></tr><tr><td>63</td><td>Brooklyn</td><td>Cypress Hills</td><td>Boro Zone</td></tr><tr><td>64</td><td>Queens</td><td>Douglaston</td><td>Boro Zone</td></tr><tr><td>65</td><td>Brooklyn</td><td>Downtown Brooklyn/MetroTech</td><td>Boro Zone</td></tr><tr><td>66</td><td>Brooklyn</td><td>DUMBO/Vinegar Hill</td><td>Boro Zone</td></tr><tr><td>67</td><td>Brooklyn</td><td>Dyker Heights</td><td>Boro Zone</td></tr><tr><td>68</td><td>Manhattan</td><td>East Chelsea</td><td>Yellow Zone</td></tr><tr><td>69</td><td>Bronx</td><td>East Concourse/Concourse Village</td><td>Boro Zone</td></tr><tr><td>70</td><td>Queens</td><td>East Elmhurst</td><td>Boro Zone</td></tr><tr><td>71</td><td>Brooklyn</td><td>East Flatbush/Farragut</td><td>Boro Zone</td></tr><tr><td>72</td><td>Brooklyn</td><td>East Flatbush/Remsen Village</td><td>Boro Zone</td></tr><tr><td>73</td><td>Queens</td><td>East Flushing</td><td>Boro Zone</td></tr><tr><td>74</td><td>Manhattan</td><td>East Harlem North</td><td>Boro Zone</td></tr><tr><td>75</td><td>Manhattan</td><td>East Harlem South</td><td>Boro Zone</td></tr><tr><td>76</td><td>Brooklyn</td><td>East New York</td><td>Boro Zone</td></tr><tr><td>77</td><td>Brooklyn</td><td>East New York/Pennsylvania Avenue</td><td>Boro Zone</td></tr><tr><td>78</td><td>Bronx</td><td>East Tremont</td><td>Boro Zone</td></tr><tr><td>79</td><td>Manhattan</td><td>East Village</td><td>Yellow Zone</td></tr><tr><td>80</td><td>Brooklyn</td><td>East Williamsburg</td><td>Boro Zone</td></tr><tr><td>81</td><td>Bronx</td><td>Eastchester</td><td>Boro Zone</td></tr><tr><td>82</td><td>Queens</td><td>Elmhurst</td><td>Boro Zone</td></tr><tr><td>83</td><td>Queens</td><td>Elmhurst/Maspeth</td><td>Boro Zone</td></tr><tr><td>84</td><td>Staten Island</td><td>Eltingville/Annadale/Prince's Bay</td><td>Boro Zone</td></tr><tr><td>85</td><td>Brooklyn</td><td>Erasmus</td><td>Boro Zone</td></tr><tr><td>86</td><td>Queens</td><td>Far Rockaway</td><td>Boro Zone</td></tr><tr><td>87</td><td>Manhattan</td><td>Financial District North</td><td>Yellow Zone</td></tr><tr><td>88</td><td>Manhattan</td><td>Financial District South</td><td>Yellow Zone</td></tr><tr><td>89</td><td>Brooklyn</td><td>Flatbush/Ditmas Park</td><td>Boro Zone</td></tr><tr><td>90</td><td>Manhattan</td><td>Flatiron</td><td>Yellow Zone</td></tr><tr><td>91</td><td>Brooklyn</td><td>Flatlands</td><td>Boro Zone</td></tr><tr><td>92</td><td>Queens</td><td>Flushing</td><td>Boro Zone</td></tr><tr><td>93</td><td>Queens</td><td>Flushing Meadows-Corona Park</td><td>Boro Zone</td></tr><tr><td>94</td><td>Bronx</td><td>Fordham South</td><td>Boro Zone</td></tr><tr><td>95</td><td>Queens</td><td>Forest Hills</td><td>Boro Zone</td></tr><tr><td>96</td><td>Queens</td><td>Forest Park/Highland Park</td><td>Boro Zone</td></tr><tr><td>97</td><td>Brooklyn</td><td>Fort Greene</td><td>Boro Zone</td></tr><tr><td>98</td><td>Queens</td><td>Fresh Meadows</td><td>Boro Zone</td></tr><tr><td>99</td><td>Staten Island</td><td>Freshkills Park</td><td>Boro Zone</td></tr><tr><td>100</td><td>Manhattan</td><td>Garment District</td><td>Yellow Zone</td></tr><tr><td>101</td><td>Queens</td><td>Glen Oaks</td><td>Boro Zone</td></tr><tr><td>102</td><td>Queens</td><td>Glendale</td><td>Boro Zone</td></tr><tr><td>103</td><td>Manhattan</td><td>Governor's Island/Ellis Island/Liberty Island</td><td>Yellow Zone</td></tr><tr><td>104</td><td>Manhattan</td><td>Governor's Island/Ellis Island/Liberty Island</td><td>Yellow Zone</td></tr><tr><td>105</td><td>Manhattan</td><td>Governor's Island/Ellis Island/Liberty Island</td><td>Yellow Zone</td></tr><tr><td>106</td><td>Brooklyn</td><td>Gowanus</td><td>Boro Zone</td></tr><tr><td>107</td><td>Manhattan</td><td>Gramercy</td><td>Yellow Zone</td></tr><tr><td>108</td><td>Brooklyn</td><td>Gravesend</td><td>Boro Zone</td></tr><tr><td>109</td><td>Staten Island</td><td>Great Kills</td><td>Boro Zone</td></tr><tr><td>110</td><td>Staten Island</td><td>Great Kills Park</td><td>Boro Zone</td></tr><tr><td>111</td><td>Brooklyn</td><td>Green-Wood Cemetery</td><td>Boro Zone</td></tr><tr><td>112</td><td>Brooklyn</td><td>Greenpoint</td><td>Boro Zone</td></tr><tr><td>113</td><td>Manhattan</td><td>Greenwich Village North</td><td>Yellow Zone</td></tr><tr><td>114</td><td>Manhattan</td><td>Greenwich Village South</td><td>Yellow Zone</td></tr><tr><td>115</td><td>Staten Island</td><td>Grymes Hill/Clifton</td><td>Boro Zone</td></tr><tr><td>116</td><td>Manhattan</td><td>Hamilton Heights</td><td>Boro Zone</td></tr><tr><td>117</td><td>Queens</td><td>Hammels/Arverne</td><td>Boro Zone</td></tr><tr><td>118</td><td>Staten Island</td><td>Heartland Village/Todt Hill</td><td>Boro Zone</td></tr><tr><td>119</td><td>Bronx</td><td>Highbridge</td><td>Boro Zone</td></tr><tr><td>120</td><td>Manhattan</td><td>Highbridge Park</td><td>Boro Zone</td></tr><tr><td>121</td><td>Queens</td><td>Hillcrest/Pomonok</td><td>Boro Zone</td></tr><tr><td>122</td><td>Queens</td><td>Hollis</td><td>Boro Zone</td></tr><tr><td>123</td><td>Brooklyn</td><td>Homecrest</td><td>Boro Zone</td></tr><tr><td>124</td><td>Queens</td><td>Howard Beach</td><td>Boro Zone</td></tr><tr><td>125</td><td>Manhattan</td><td>Hudson Sq</td><td>Yellow Zone</td></tr><tr><td>126</td><td>Bronx</td><td>Hunts Point</td><td>Boro Zone</td></tr><tr><td>127</td><td>Manhattan</td><td>Inwood</td><td>Boro Zone</td></tr><tr><td>128</td><td>Manhattan</td><td>Inwood Hill Park</td><td>Boro Zone</td></tr><tr><td>129</td><td>Queens</td><td>Jackson Heights</td><td>Boro Zone</td></tr><tr><td>130</td><td>Queens</td><td>Jamaica</td><td>Boro Zone</td></tr><tr><td>131</td><td>Queens</td><td>Jamaica Estates</td><td>Boro Zone</td></tr><tr><td>132</td><td>Queens</td><td>JFK Airport</td><td>Airports</td></tr><tr><td>133</td><td>Brooklyn</td><td>Kensington</td><td>Boro Zone</td></tr><tr><td>134</td><td>Queens</td><td>Kew Gardens</td><td>Boro Zone</td></tr><tr><td>135</td><td>Queens</td><td>Kew Gardens Hills</td><td>Boro Zone</td></tr><tr><td>136</td><td>Bronx</td><td>Kingsbridge Heights</td><td>Boro Zone</td></tr><tr><td>137</td><td>Manhattan</td><td>Kips Bay</td><td>Yellow Zone</td></tr><tr><td>138</td><td>Queens</td><td>LaGuardia Airport</td><td>Airports</td></tr><tr><td>139</td><td>Queens</td><td>Laurelton</td><td>Boro Zone</td></tr><tr><td>140</td><td>Manhattan</td><td>Lenox Hill East</td><td>Yellow Zone</td></tr><tr><td>141</td><td>Manhattan</td><td>Lenox Hill West</td><td>Yellow Zone</td></tr><tr><td>142</td><td>Manhattan</td><td>Lincoln Square East</td><td>Yellow Zone</td></tr><tr><td>143</td><td>Manhattan</td><td>Lincoln Square West</td><td>Yellow Zone</td></tr><tr><td>144</td><td>Manhattan</td><td>Little Italy/NoLiTa</td><td>Yellow Zone</td></tr><tr><td>145</td><td>Queens</td><td>Long Island City/Hunters Point</td><td>Boro Zone</td></tr><tr><td>146</td><td>Queens</td><td>Long Island City/Queens Plaza</td><td>Boro Zone</td></tr><tr><td>147</td><td>Bronx</td><td>Longwood</td><td>Boro Zone</td></tr><tr><td>148</td><td>Manhattan</td><td>Lower East Side</td><td>Yellow Zone</td></tr><tr><td>149</td><td>Brooklyn</td><td>Madison</td><td>Boro Zone</td></tr><tr><td>150</td><td>Brooklyn</td><td>Manhattan Beach</td><td>Boro Zone</td></tr><tr><td>151</td><td>Manhattan</td><td>Manhattan Valley</td><td>Yellow Zone</td></tr><tr><td>152</td><td>Manhattan</td><td>Manhattanville</td><td>Boro Zone</td></tr><tr><td>153</td><td>Manhattan</td><td>Marble Hill</td><td>Boro Zone</td></tr><tr><td>154</td><td>Brooklyn</td><td>Marine Park/Floyd Bennett Field</td><td>Boro Zone</td></tr><tr><td>155</td><td>Brooklyn</td><td>Marine Park/Mill Basin</td><td>Boro Zone</td></tr><tr><td>156</td><td>Staten Island</td><td>Mariners Harbor</td><td>Boro Zone</td></tr><tr><td>157</td><td>Queens</td><td>Maspeth</td><td>Boro Zone</td></tr><tr><td>158</td><td>Manhattan</td><td>Meatpacking/West Village West</td><td>Yellow Zone</td></tr><tr><td>159</td><td>Bronx</td><td>Melrose South</td><td>Boro Zone</td></tr><tr><td>160</td><td>Queens</td><td>Middle Village</td><td>Boro Zone</td></tr><tr><td>161</td><td>Manhattan</td><td>Midtown Center</td><td>Yellow Zone</td></tr><tr><td>162</td><td>Manhattan</td><td>Midtown East</td><td>Yellow Zone</td></tr><tr><td>163</td><td>Manhattan</td><td>Midtown North</td><td>Yellow Zone</td></tr><tr><td>164</td><td>Manhattan</td><td>Midtown South</td><td>Yellow Zone</td></tr><tr><td>165</td><td>Brooklyn</td><td>Midwood</td><td>Boro Zone</td></tr><tr><td>166</td><td>Manhattan</td><td>Morningside Heights</td><td>Boro Zone</td></tr><tr><td>167</td><td>Bronx</td><td>Morrisania/Melrose</td><td>Boro Zone</td></tr><tr><td>168</td><td>Bronx</td><td>Mott Haven/Port Morris</td><td>Boro Zone</td></tr><tr><td>169</td><td>Bronx</td><td>Mount Hope</td><td>Boro Zone</td></tr><tr><td>170</td><td>Manhattan</td><td>Murray Hill</td><td>Yellow Zone</td></tr><tr><td>171</td><td>Queens</td><td>Murray Hill-Queens</td><td>Boro Zone</td></tr><tr><td>172</td><td>Staten Island</td><td>New Dorp/Midland Beach</td><td>Boro Zone</td></tr><tr><td>173</td><td>Queens</td><td>North Corona</td><td>Boro Zone</td></tr><tr><td>174</td><td>Bronx</td><td>Norwood</td><td>Boro Zone</td></tr><tr><td>175</td><td>Queens</td><td>Oakland Gardens</td><td>Boro Zone</td></tr><tr><td>176</td><td>Staten Island</td><td>Oakwood</td><td>Boro Zone</td></tr><tr><td>177</td><td>Brooklyn</td><td>Ocean Hill</td><td>Boro Zone</td></tr><tr><td>178</td><td>Brooklyn</td><td>Ocean Parkway South</td><td>Boro Zone</td></tr><tr><td>179</td><td>Queens</td><td>Old Astoria</td><td>Boro Zone</td></tr><tr><td>180</td><td>Queens</td><td>Ozone Park</td><td>Boro Zone</td></tr><tr><td>181</td><td>Brooklyn</td><td>Park Slope</td><td>Boro Zone</td></tr><tr><td>182</td><td>Bronx</td><td>Parkchester</td><td>Boro Zone</td></tr><tr><td>183</td><td>Bronx</td><td>Pelham Bay</td><td>Boro Zone</td></tr><tr><td>184</td><td>Bronx</td><td>Pelham Bay Park</td><td>Boro Zone</td></tr><tr><td>185</td><td>Bronx</td><td>Pelham Parkway</td><td>Boro Zone</td></tr><tr><td>186</td><td>Manhattan</td><td>Penn Station/Madison Sq West</td><td>Yellow Zone</td></tr><tr><td>187</td><td>Staten Island</td><td>Port Richmond</td><td>Boro Zone</td></tr><tr><td>188</td><td>Brooklyn</td><td>Prospect-Lefferts Gardens</td><td>Boro Zone</td></tr><tr><td>189</td><td>Brooklyn</td><td>Prospect Heights</td><td>Boro Zone</td></tr><tr><td>190</td><td>Brooklyn</td><td>Prospect Park</td><td>Boro Zone</td></tr><tr><td>191</td><td>Queens</td><td>Queens Village</td><td>Boro Zone</td></tr><tr><td>192</td><td>Queens</td><td>Queensboro Hill</td><td>Boro Zone</td></tr><tr><td>193</td><td>Queens</td><td>Queensbridge/Ravenswood</td><td>Boro Zone</td></tr><tr><td>194</td><td>Manhattan</td><td>Randalls Island</td><td>Yellow Zone</td></tr><tr><td>195</td><td>Brooklyn</td><td>Red Hook</td><td>Boro Zone</td></tr><tr><td>196</td><td>Queens</td><td>Rego Park</td><td>Boro Zone</td></tr><tr><td>197</td><td>Queens</td><td>Richmond Hill</td><td>Boro Zone</td></tr><tr><td>198</td><td>Queens</td><td>Ridgewood</td><td>Boro Zone</td></tr><tr><td>199</td><td>Bronx</td><td>Rikers Island</td><td>Boro Zone</td></tr><tr><td>200</td><td>Bronx</td><td>Riverdale/North Riverdale/Fieldston</td><td>Boro Zone</td></tr><tr><td>201</td><td>Queens</td><td>Rockaway Park</td><td>Boro Zone</td></tr><tr><td>202</td><td>Manhattan</td><td>Roosevelt Island</td><td>Boro Zone</td></tr><tr><td>203</td><td>Queens</td><td>Rosedale</td><td>Boro Zone</td></tr><tr><td>204</td><td>Staten Island</td><td>Rossville/Woodrow</td><td>Boro Zone</td></tr><tr><td>205</td><td>Queens</td><td>Saint Albans</td><td>Boro Zone</td></tr><tr><td>206</td><td>Staten Island</td><td>Saint George/New Brighton</td><td>Boro Zone</td></tr><tr><td>207</td><td>Queens</td><td>Saint Michaels Cemetery/Woodside</td><td>Boro Zone</td></tr><tr><td>208</td><td>Bronx</td><td>Schuylerville/Edgewater Park</td><td>Boro Zone</td></tr><tr><td>209</td><td>Manhattan</td><td>Seaport</td><td>Yellow Zone</td></tr><tr><td>210</td><td>Brooklyn</td><td>Sheepshead Bay</td><td>Boro Zone</td></tr><tr><td>211</td><td>Manhattan</td><td>SoHo</td><td>Yellow Zone</td></tr><tr><td>212</td><td>Bronx</td><td>Soundview/Bruckner</td><td>Boro Zone</td></tr><tr><td>213</td><td>Bronx</td><td>Soundview/Castle Hill</td><td>Boro Zone</td></tr><tr><td>214</td><td>Staten Island</td><td>South Beach/Dongan Hills</td><td>Boro Zone</td></tr><tr><td>215</td><td>Queens</td><td>South Jamaica</td><td>Boro Zone</td></tr><tr><td>216</td><td>Queens</td><td>South Ozone Park</td><td>Boro Zone</td></tr><tr><td>217</td><td>Brooklyn</td><td>South Williamsburg</td><td>Boro Zone</td></tr><tr><td>218</td><td>Queens</td><td>Springfield Gardens North</td><td>Boro Zone</td></tr><tr><td>219</td><td>Queens</td><td>Springfield Gardens South</td><td>Boro Zone</td></tr><tr><td>220</td><td>Bronx</td><td>Spuyten Duyvil/Kingsbridge</td><td>Boro Zone</td></tr><tr><td>221</td><td>Staten Island</td><td>Stapleton</td><td>Boro Zone</td></tr><tr><td>222</td><td>Brooklyn</td><td>Starrett City</td><td>Boro Zone</td></tr><tr><td>223</td><td>Queens</td><td>Steinway</td><td>Boro Zone</td></tr><tr><td>224</td><td>Manhattan</td><td>Stuy Town/Peter Cooper Village</td><td>Yellow Zone</td></tr><tr><td>225</td><td>Brooklyn</td><td>Stuyvesant Heights</td><td>Boro Zone</td></tr><tr><td>226</td><td>Queens</td><td>Sunnyside</td><td>Boro Zone</td></tr><tr><td>227</td><td>Brooklyn</td><td>Sunset Park East</td><td>Boro Zone</td></tr><tr><td>228</td><td>Brooklyn</td><td>Sunset Park West</td><td>Boro Zone</td></tr><tr><td>229</td><td>Manhattan</td><td>Sutton Place/Turtle Bay North</td><td>Yellow Zone</td></tr><tr><td>230</td><td>Manhattan</td><td>Times Sq/Theatre District</td><td>Yellow Zone</td></tr><tr><td>231</td><td>Manhattan</td><td>TriBeCa/Civic Center</td><td>Yellow Zone</td></tr><tr><td>232</td><td>Manhattan</td><td>Two Bridges/Seward Park</td><td>Yellow Zone</td></tr><tr><td>233</td><td>Manhattan</td><td>UN/Turtle Bay South</td><td>Yellow Zone</td></tr><tr><td>234</td><td>Manhattan</td><td>Union Sq</td><td>Yellow Zone</td></tr><tr><td>235</td><td>Bronx</td><td>University Heights/Morris Heights</td><td>Boro Zone</td></tr><tr><td>236</td><td>Manhattan</td><td>Upper East Side North</td><td>Yellow Zone</td></tr><tr><td>237</td><td>Manhattan</td><td>Upper East Side South</td><td>Yellow Zone</td></tr><tr><td>238</td><td>Manhattan</td><td>Upper West Side North</td><td>Yellow Zone</td></tr><tr><td>239</td><td>Manhattan</td><td>Upper West Side South</td><td>Yellow Zone</td></tr><tr><td>240</td><td>Bronx</td><td>Van Cortlandt Park</td><td>Boro Zone</td></tr><tr><td>241</td><td>Bronx</td><td>Van Cortlandt Village</td><td>Boro Zone</td></tr><tr><td>242</td><td>Bronx</td><td>Van Nest/Morris Park</td><td>Boro Zone</td></tr><tr><td>243</td><td>Manhattan</td><td>Washington Heights North</td><td>Boro Zone</td></tr><tr><td>244</td><td>Manhattan</td><td>Washington Heights South</td><td>Boro Zone</td></tr><tr><td>245</td><td>Staten Island</td><td>West Brighton</td><td>Boro Zone</td></tr><tr><td>246</td><td>Manhattan</td><td>West Chelsea/Hudson Yards</td><td>Yellow Zone</td></tr><tr><td>247</td><td>Bronx</td><td>West Concourse</td><td>Boro Zone</td></tr><tr><td>248</td><td>Bronx</td><td>West Farms/Bronx River</td><td>Boro Zone</td></tr><tr><td>249</td><td>Manhattan</td><td>West Village</td><td>Yellow Zone</td></tr><tr><td>250</td><td>Bronx</td><td>Westchester Village/Unionport</td><td>Boro Zone</td></tr><tr><td>251</td><td>Staten Island</td><td>Westerleigh</td><td>Boro Zone</td></tr><tr><td>252</td><td>Queens</td><td>Whitestone</td><td>Boro Zone</td></tr><tr><td>253</td><td>Queens</td><td>Willets Point</td><td>Boro Zone</td></tr><tr><td>254</td><td>Bronx</td><td>Williamsbridge/Olinville</td><td>Boro Zone</td></tr><tr><td>255</td><td>Brooklyn</td><td>Williamsburg (North Side)</td><td>Boro Zone</td></tr><tr><td>256</td><td>Brooklyn</td><td>Williamsburg (South Side)</td><td>Boro Zone</td></tr><tr><td>257</td><td>Brooklyn</td><td>Windsor Terrace</td><td>Boro Zone</td></tr><tr><td>258</td><td>Queens</td><td>Woodhaven</td><td>Boro Zone</td></tr><tr><td>259</td><td>Bronx</td><td>Woodlawn/Wakefield</td><td>Boro Zone</td></tr><tr><td>260</td><td>Queens</td><td>Woodside</td><td>Boro Zone</td></tr><tr><td>261</td><td>Manhattan</td><td>World Trade Center</td><td>Yellow Zone</td></tr><tr><td>262</td><td>Manhattan</td><td>Yorkville East</td><td>Yellow Zone</td></tr><tr><td>263</td><td>Manhattan</td><td>Yorkville West</td><td>Yellow Zone</td></tr><tr><td>264</td><td>Unknown</td><td>N/A</td><td>N/A</td></tr><tr><td>265</td><td>N/A</td><td>Outside of NYC</td><td>N/A</td></tr></tbody></table></div>"
      ]
     },
     "metadata": {
      "application/vnd.databricks.v1+output": {
       "addedWidgets": {},
       "aggData": [],
       "aggError": "",
       "aggOverflow": false,
       "aggSchema": [],
       "aggSeriesLimitReached": false,
       "aggType": "",
       "arguments": {},
       "columnCustomDisplayInfos": {},
       "data": [
        [
         1,
         "EWR",
         "Newark Airport",
         "EWR"
        ],
        [
         2,
         "Queens",
         "Jamaica Bay",
         "Boro Zone"
        ],
        [
         3,
         "Bronx",
         "Allerton/Pelham Gardens",
         "Boro Zone"
        ],
        [
         4,
         "Manhattan",
         "Alphabet City",
         "Yellow Zone"
        ],
        [
         5,
         "Staten Island",
         "Arden Heights",
         "Boro Zone"
        ],
        [
         6,
         "Staten Island",
         "Arrochar/Fort Wadsworth",
         "Boro Zone"
        ],
        [
         7,
         "Queens",
         "Astoria",
         "Boro Zone"
        ],
        [
         8,
         "Queens",
         "Astoria Park",
         "Boro Zone"
        ],
        [
         9,
         "Queens",
         "Auburndale",
         "Boro Zone"
        ],
        [
         10,
         "Queens",
         "Baisley Park",
         "Boro Zone"
        ],
        [
         11,
         "Brooklyn",
         "Bath Beach",
         "Boro Zone"
        ],
        [
         12,
         "Manhattan",
         "Battery Park",
         "Yellow Zone"
        ],
        [
         13,
         "Manhattan",
         "Battery Park City",
         "Yellow Zone"
        ],
        [
         14,
         "Brooklyn",
         "Bay Ridge",
         "Boro Zone"
        ],
        [
         15,
         "Queens",
         "Bay Terrace/Fort Totten",
         "Boro Zone"
        ],
        [
         16,
         "Queens",
         "Bayside",
         "Boro Zone"
        ],
        [
         17,
         "Brooklyn",
         "Bedford",
         "Boro Zone"
        ],
        [
         18,
         "Bronx",
         "Bedford Park",
         "Boro Zone"
        ],
        [
         19,
         "Queens",
         "Bellerose",
         "Boro Zone"
        ],
        [
         20,
         "Bronx",
         "Belmont",
         "Boro Zone"
        ],
        [
         21,
         "Brooklyn",
         "Bensonhurst East",
         "Boro Zone"
        ],
        [
         22,
         "Brooklyn",
         "Bensonhurst West",
         "Boro Zone"
        ],
        [
         23,
         "Staten Island",
         "Bloomfield/Emerson Hill",
         "Boro Zone"
        ],
        [
         24,
         "Manhattan",
         "Bloomingdale",
         "Yellow Zone"
        ],
        [
         25,
         "Brooklyn",
         "Boerum Hill",
         "Boro Zone"
        ],
        [
         26,
         "Brooklyn",
         "Borough Park",
         "Boro Zone"
        ],
        [
         27,
         "Queens",
         "Breezy Point/Fort Tilden/Riis Beach",
         "Boro Zone"
        ],
        [
         28,
         "Queens",
         "Briarwood/Jamaica Hills",
         "Boro Zone"
        ],
        [
         29,
         "Brooklyn",
         "Brighton Beach",
         "Boro Zone"
        ],
        [
         30,
         "Queens",
         "Broad Channel",
         "Boro Zone"
        ],
        [
         31,
         "Bronx",
         "Bronx Park",
         "Boro Zone"
        ],
        [
         32,
         "Bronx",
         "Bronxdale",
         "Boro Zone"
        ],
        [
         33,
         "Brooklyn",
         "Brooklyn Heights",
         "Boro Zone"
        ],
        [
         34,
         "Brooklyn",
         "Brooklyn Navy Yard",
         "Boro Zone"
        ],
        [
         35,
         "Brooklyn",
         "Brownsville",
         "Boro Zone"
        ],
        [
         36,
         "Brooklyn",
         "Bushwick North",
         "Boro Zone"
        ],
        [
         37,
         "Brooklyn",
         "Bushwick South",
         "Boro Zone"
        ],
        [
         38,
         "Queens",
         "Cambria Heights",
         "Boro Zone"
        ],
        [
         39,
         "Brooklyn",
         "Canarsie",
         "Boro Zone"
        ],
        [
         40,
         "Brooklyn",
         "Carroll Gardens",
         "Boro Zone"
        ],
        [
         41,
         "Manhattan",
         "Central Harlem",
         "Boro Zone"
        ],
        [
         42,
         "Manhattan",
         "Central Harlem North",
         "Boro Zone"
        ],
        [
         43,
         "Manhattan",
         "Central Park",
         "Yellow Zone"
        ],
        [
         44,
         "Staten Island",
         "Charleston/Tottenville",
         "Boro Zone"
        ],
        [
         45,
         "Manhattan",
         "Chinatown",
         "Yellow Zone"
        ],
        [
         46,
         "Bronx",
         "City Island",
         "Boro Zone"
        ],
        [
         47,
         "Bronx",
         "Claremont/Bathgate",
         "Boro Zone"
        ],
        [
         48,
         "Manhattan",
         "Clinton East",
         "Yellow Zone"
        ],
        [
         49,
         "Brooklyn",
         "Clinton Hill",
         "Boro Zone"
        ],
        [
         50,
         "Manhattan",
         "Clinton West",
         "Yellow Zone"
        ],
        [
         51,
         "Bronx",
         "Co-Op City",
         "Boro Zone"
        ],
        [
         52,
         "Brooklyn",
         "Cobble Hill",
         "Boro Zone"
        ],
        [
         53,
         "Queens",
         "College Point",
         "Boro Zone"
        ],
        [
         54,
         "Brooklyn",
         "Columbia Street",
         "Boro Zone"
        ],
        [
         55,
         "Brooklyn",
         "Coney Island",
         "Boro Zone"
        ],
        [
         56,
         "Queens",
         "Corona",
         "Boro Zone"
        ],
        [
         57,
         "Queens",
         "Corona",
         "Boro Zone"
        ],
        [
         58,
         "Bronx",
         "Country Club",
         "Boro Zone"
        ],
        [
         59,
         "Bronx",
         "Crotona Park",
         "Boro Zone"
        ],
        [
         60,
         "Bronx",
         "Crotona Park East",
         "Boro Zone"
        ],
        [
         61,
         "Brooklyn",
         "Crown Heights North",
         "Boro Zone"
        ],
        [
         62,
         "Brooklyn",
         "Crown Heights South",
         "Boro Zone"
        ],
        [
         63,
         "Brooklyn",
         "Cypress Hills",
         "Boro Zone"
        ],
        [
         64,
         "Queens",
         "Douglaston",
         "Boro Zone"
        ],
        [
         65,
         "Brooklyn",
         "Downtown Brooklyn/MetroTech",
         "Boro Zone"
        ],
        [
         66,
         "Brooklyn",
         "DUMBO/Vinegar Hill",
         "Boro Zone"
        ],
        [
         67,
         "Brooklyn",
         "Dyker Heights",
         "Boro Zone"
        ],
        [
         68,
         "Manhattan",
         "East Chelsea",
         "Yellow Zone"
        ],
        [
         69,
         "Bronx",
         "East Concourse/Concourse Village",
         "Boro Zone"
        ],
        [
         70,
         "Queens",
         "East Elmhurst",
         "Boro Zone"
        ],
        [
         71,
         "Brooklyn",
         "East Flatbush/Farragut",
         "Boro Zone"
        ],
        [
         72,
         "Brooklyn",
         "East Flatbush/Remsen Village",
         "Boro Zone"
        ],
        [
         73,
         "Queens",
         "East Flushing",
         "Boro Zone"
        ],
        [
         74,
         "Manhattan",
         "East Harlem North",
         "Boro Zone"
        ],
        [
         75,
         "Manhattan",
         "East Harlem South",
         "Boro Zone"
        ],
        [
         76,
         "Brooklyn",
         "East New York",
         "Boro Zone"
        ],
        [
         77,
         "Brooklyn",
         "East New York/Pennsylvania Avenue",
         "Boro Zone"
        ],
        [
         78,
         "Bronx",
         "East Tremont",
         "Boro Zone"
        ],
        [
         79,
         "Manhattan",
         "East Village",
         "Yellow Zone"
        ],
        [
         80,
         "Brooklyn",
         "East Williamsburg",
         "Boro Zone"
        ],
        [
         81,
         "Bronx",
         "Eastchester",
         "Boro Zone"
        ],
        [
         82,
         "Queens",
         "Elmhurst",
         "Boro Zone"
        ],
        [
         83,
         "Queens",
         "Elmhurst/Maspeth",
         "Boro Zone"
        ],
        [
         84,
         "Staten Island",
         "Eltingville/Annadale/Prince's Bay",
         "Boro Zone"
        ],
        [
         85,
         "Brooklyn",
         "Erasmus",
         "Boro Zone"
        ],
        [
         86,
         "Queens",
         "Far Rockaway",
         "Boro Zone"
        ],
        [
         87,
         "Manhattan",
         "Financial District North",
         "Yellow Zone"
        ],
        [
         88,
         "Manhattan",
         "Financial District South",
         "Yellow Zone"
        ],
        [
         89,
         "Brooklyn",
         "Flatbush/Ditmas Park",
         "Boro Zone"
        ],
        [
         90,
         "Manhattan",
         "Flatiron",
         "Yellow Zone"
        ],
        [
         91,
         "Brooklyn",
         "Flatlands",
         "Boro Zone"
        ],
        [
         92,
         "Queens",
         "Flushing",
         "Boro Zone"
        ],
        [
         93,
         "Queens",
         "Flushing Meadows-Corona Park",
         "Boro Zone"
        ],
        [
         94,
         "Bronx",
         "Fordham South",
         "Boro Zone"
        ],
        [
         95,
         "Queens",
         "Forest Hills",
         "Boro Zone"
        ],
        [
         96,
         "Queens",
         "Forest Park/Highland Park",
         "Boro Zone"
        ],
        [
         97,
         "Brooklyn",
         "Fort Greene",
         "Boro Zone"
        ],
        [
         98,
         "Queens",
         "Fresh Meadows",
         "Boro Zone"
        ],
        [
         99,
         "Staten Island",
         "Freshkills Park",
         "Boro Zone"
        ],
        [
         100,
         "Manhattan",
         "Garment District",
         "Yellow Zone"
        ],
        [
         101,
         "Queens",
         "Glen Oaks",
         "Boro Zone"
        ],
        [
         102,
         "Queens",
         "Glendale",
         "Boro Zone"
        ],
        [
         103,
         "Manhattan",
         "Governor's Island/Ellis Island/Liberty Island",
         "Yellow Zone"
        ],
        [
         104,
         "Manhattan",
         "Governor's Island/Ellis Island/Liberty Island",
         "Yellow Zone"
        ],
        [
         105,
         "Manhattan",
         "Governor's Island/Ellis Island/Liberty Island",
         "Yellow Zone"
        ],
        [
         106,
         "Brooklyn",
         "Gowanus",
         "Boro Zone"
        ],
        [
         107,
         "Manhattan",
         "Gramercy",
         "Yellow Zone"
        ],
        [
         108,
         "Brooklyn",
         "Gravesend",
         "Boro Zone"
        ],
        [
         109,
         "Staten Island",
         "Great Kills",
         "Boro Zone"
        ],
        [
         110,
         "Staten Island",
         "Great Kills Park",
         "Boro Zone"
        ],
        [
         111,
         "Brooklyn",
         "Green-Wood Cemetery",
         "Boro Zone"
        ],
        [
         112,
         "Brooklyn",
         "Greenpoint",
         "Boro Zone"
        ],
        [
         113,
         "Manhattan",
         "Greenwich Village North",
         "Yellow Zone"
        ],
        [
         114,
         "Manhattan",
         "Greenwich Village South",
         "Yellow Zone"
        ],
        [
         115,
         "Staten Island",
         "Grymes Hill/Clifton",
         "Boro Zone"
        ],
        [
         116,
         "Manhattan",
         "Hamilton Heights",
         "Boro Zone"
        ],
        [
         117,
         "Queens",
         "Hammels/Arverne",
         "Boro Zone"
        ],
        [
         118,
         "Staten Island",
         "Heartland Village/Todt Hill",
         "Boro Zone"
        ],
        [
         119,
         "Bronx",
         "Highbridge",
         "Boro Zone"
        ],
        [
         120,
         "Manhattan",
         "Highbridge Park",
         "Boro Zone"
        ],
        [
         121,
         "Queens",
         "Hillcrest/Pomonok",
         "Boro Zone"
        ],
        [
         122,
         "Queens",
         "Hollis",
         "Boro Zone"
        ],
        [
         123,
         "Brooklyn",
         "Homecrest",
         "Boro Zone"
        ],
        [
         124,
         "Queens",
         "Howard Beach",
         "Boro Zone"
        ],
        [
         125,
         "Manhattan",
         "Hudson Sq",
         "Yellow Zone"
        ],
        [
         126,
         "Bronx",
         "Hunts Point",
         "Boro Zone"
        ],
        [
         127,
         "Manhattan",
         "Inwood",
         "Boro Zone"
        ],
        [
         128,
         "Manhattan",
         "Inwood Hill Park",
         "Boro Zone"
        ],
        [
         129,
         "Queens",
         "Jackson Heights",
         "Boro Zone"
        ],
        [
         130,
         "Queens",
         "Jamaica",
         "Boro Zone"
        ],
        [
         131,
         "Queens",
         "Jamaica Estates",
         "Boro Zone"
        ],
        [
         132,
         "Queens",
         "JFK Airport",
         "Airports"
        ],
        [
         133,
         "Brooklyn",
         "Kensington",
         "Boro Zone"
        ],
        [
         134,
         "Queens",
         "Kew Gardens",
         "Boro Zone"
        ],
        [
         135,
         "Queens",
         "Kew Gardens Hills",
         "Boro Zone"
        ],
        [
         136,
         "Bronx",
         "Kingsbridge Heights",
         "Boro Zone"
        ],
        [
         137,
         "Manhattan",
         "Kips Bay",
         "Yellow Zone"
        ],
        [
         138,
         "Queens",
         "LaGuardia Airport",
         "Airports"
        ],
        [
         139,
         "Queens",
         "Laurelton",
         "Boro Zone"
        ],
        [
         140,
         "Manhattan",
         "Lenox Hill East",
         "Yellow Zone"
        ],
        [
         141,
         "Manhattan",
         "Lenox Hill West",
         "Yellow Zone"
        ],
        [
         142,
         "Manhattan",
         "Lincoln Square East",
         "Yellow Zone"
        ],
        [
         143,
         "Manhattan",
         "Lincoln Square West",
         "Yellow Zone"
        ],
        [
         144,
         "Manhattan",
         "Little Italy/NoLiTa",
         "Yellow Zone"
        ],
        [
         145,
         "Queens",
         "Long Island City/Hunters Point",
         "Boro Zone"
        ],
        [
         146,
         "Queens",
         "Long Island City/Queens Plaza",
         "Boro Zone"
        ],
        [
         147,
         "Bronx",
         "Longwood",
         "Boro Zone"
        ],
        [
         148,
         "Manhattan",
         "Lower East Side",
         "Yellow Zone"
        ],
        [
         149,
         "Brooklyn",
         "Madison",
         "Boro Zone"
        ],
        [
         150,
         "Brooklyn",
         "Manhattan Beach",
         "Boro Zone"
        ],
        [
         151,
         "Manhattan",
         "Manhattan Valley",
         "Yellow Zone"
        ],
        [
         152,
         "Manhattan",
         "Manhattanville",
         "Boro Zone"
        ],
        [
         153,
         "Manhattan",
         "Marble Hill",
         "Boro Zone"
        ],
        [
         154,
         "Brooklyn",
         "Marine Park/Floyd Bennett Field",
         "Boro Zone"
        ],
        [
         155,
         "Brooklyn",
         "Marine Park/Mill Basin",
         "Boro Zone"
        ],
        [
         156,
         "Staten Island",
         "Mariners Harbor",
         "Boro Zone"
        ],
        [
         157,
         "Queens",
         "Maspeth",
         "Boro Zone"
        ],
        [
         158,
         "Manhattan",
         "Meatpacking/West Village West",
         "Yellow Zone"
        ],
        [
         159,
         "Bronx",
         "Melrose South",
         "Boro Zone"
        ],
        [
         160,
         "Queens",
         "Middle Village",
         "Boro Zone"
        ],
        [
         161,
         "Manhattan",
         "Midtown Center",
         "Yellow Zone"
        ],
        [
         162,
         "Manhattan",
         "Midtown East",
         "Yellow Zone"
        ],
        [
         163,
         "Manhattan",
         "Midtown North",
         "Yellow Zone"
        ],
        [
         164,
         "Manhattan",
         "Midtown South",
         "Yellow Zone"
        ],
        [
         165,
         "Brooklyn",
         "Midwood",
         "Boro Zone"
        ],
        [
         166,
         "Manhattan",
         "Morningside Heights",
         "Boro Zone"
        ],
        [
         167,
         "Bronx",
         "Morrisania/Melrose",
         "Boro Zone"
        ],
        [
         168,
         "Bronx",
         "Mott Haven/Port Morris",
         "Boro Zone"
        ],
        [
         169,
         "Bronx",
         "Mount Hope",
         "Boro Zone"
        ],
        [
         170,
         "Manhattan",
         "Murray Hill",
         "Yellow Zone"
        ],
        [
         171,
         "Queens",
         "Murray Hill-Queens",
         "Boro Zone"
        ],
        [
         172,
         "Staten Island",
         "New Dorp/Midland Beach",
         "Boro Zone"
        ],
        [
         173,
         "Queens",
         "North Corona",
         "Boro Zone"
        ],
        [
         174,
         "Bronx",
         "Norwood",
         "Boro Zone"
        ],
        [
         175,
         "Queens",
         "Oakland Gardens",
         "Boro Zone"
        ],
        [
         176,
         "Staten Island",
         "Oakwood",
         "Boro Zone"
        ],
        [
         177,
         "Brooklyn",
         "Ocean Hill",
         "Boro Zone"
        ],
        [
         178,
         "Brooklyn",
         "Ocean Parkway South",
         "Boro Zone"
        ],
        [
         179,
         "Queens",
         "Old Astoria",
         "Boro Zone"
        ],
        [
         180,
         "Queens",
         "Ozone Park",
         "Boro Zone"
        ],
        [
         181,
         "Brooklyn",
         "Park Slope",
         "Boro Zone"
        ],
        [
         182,
         "Bronx",
         "Parkchester",
         "Boro Zone"
        ],
        [
         183,
         "Bronx",
         "Pelham Bay",
         "Boro Zone"
        ],
        [
         184,
         "Bronx",
         "Pelham Bay Park",
         "Boro Zone"
        ],
        [
         185,
         "Bronx",
         "Pelham Parkway",
         "Boro Zone"
        ],
        [
         186,
         "Manhattan",
         "Penn Station/Madison Sq West",
         "Yellow Zone"
        ],
        [
         187,
         "Staten Island",
         "Port Richmond",
         "Boro Zone"
        ],
        [
         188,
         "Brooklyn",
         "Prospect-Lefferts Gardens",
         "Boro Zone"
        ],
        [
         189,
         "Brooklyn",
         "Prospect Heights",
         "Boro Zone"
        ],
        [
         190,
         "Brooklyn",
         "Prospect Park",
         "Boro Zone"
        ],
        [
         191,
         "Queens",
         "Queens Village",
         "Boro Zone"
        ],
        [
         192,
         "Queens",
         "Queensboro Hill",
         "Boro Zone"
        ],
        [
         193,
         "Queens",
         "Queensbridge/Ravenswood",
         "Boro Zone"
        ],
        [
         194,
         "Manhattan",
         "Randalls Island",
         "Yellow Zone"
        ],
        [
         195,
         "Brooklyn",
         "Red Hook",
         "Boro Zone"
        ],
        [
         196,
         "Queens",
         "Rego Park",
         "Boro Zone"
        ],
        [
         197,
         "Queens",
         "Richmond Hill",
         "Boro Zone"
        ],
        [
         198,
         "Queens",
         "Ridgewood",
         "Boro Zone"
        ],
        [
         199,
         "Bronx",
         "Rikers Island",
         "Boro Zone"
        ],
        [
         200,
         "Bronx",
         "Riverdale/North Riverdale/Fieldston",
         "Boro Zone"
        ],
        [
         201,
         "Queens",
         "Rockaway Park",
         "Boro Zone"
        ],
        [
         202,
         "Manhattan",
         "Roosevelt Island",
         "Boro Zone"
        ],
        [
         203,
         "Queens",
         "Rosedale",
         "Boro Zone"
        ],
        [
         204,
         "Staten Island",
         "Rossville/Woodrow",
         "Boro Zone"
        ],
        [
         205,
         "Queens",
         "Saint Albans",
         "Boro Zone"
        ],
        [
         206,
         "Staten Island",
         "Saint George/New Brighton",
         "Boro Zone"
        ],
        [
         207,
         "Queens",
         "Saint Michaels Cemetery/Woodside",
         "Boro Zone"
        ],
        [
         208,
         "Bronx",
         "Schuylerville/Edgewater Park",
         "Boro Zone"
        ],
        [
         209,
         "Manhattan",
         "Seaport",
         "Yellow Zone"
        ],
        [
         210,
         "Brooklyn",
         "Sheepshead Bay",
         "Boro Zone"
        ],
        [
         211,
         "Manhattan",
         "SoHo",
         "Yellow Zone"
        ],
        [
         212,
         "Bronx",
         "Soundview/Bruckner",
         "Boro Zone"
        ],
        [
         213,
         "Bronx",
         "Soundview/Castle Hill",
         "Boro Zone"
        ],
        [
         214,
         "Staten Island",
         "South Beach/Dongan Hills",
         "Boro Zone"
        ],
        [
         215,
         "Queens",
         "South Jamaica",
         "Boro Zone"
        ],
        [
         216,
         "Queens",
         "South Ozone Park",
         "Boro Zone"
        ],
        [
         217,
         "Brooklyn",
         "South Williamsburg",
         "Boro Zone"
        ],
        [
         218,
         "Queens",
         "Springfield Gardens North",
         "Boro Zone"
        ],
        [
         219,
         "Queens",
         "Springfield Gardens South",
         "Boro Zone"
        ],
        [
         220,
         "Bronx",
         "Spuyten Duyvil/Kingsbridge",
         "Boro Zone"
        ],
        [
         221,
         "Staten Island",
         "Stapleton",
         "Boro Zone"
        ],
        [
         222,
         "Brooklyn",
         "Starrett City",
         "Boro Zone"
        ],
        [
         223,
         "Queens",
         "Steinway",
         "Boro Zone"
        ],
        [
         224,
         "Manhattan",
         "Stuy Town/Peter Cooper Village",
         "Yellow Zone"
        ],
        [
         225,
         "Brooklyn",
         "Stuyvesant Heights",
         "Boro Zone"
        ],
        [
         226,
         "Queens",
         "Sunnyside",
         "Boro Zone"
        ],
        [
         227,
         "Brooklyn",
         "Sunset Park East",
         "Boro Zone"
        ],
        [
         228,
         "Brooklyn",
         "Sunset Park West",
         "Boro Zone"
        ],
        [
         229,
         "Manhattan",
         "Sutton Place/Turtle Bay North",
         "Yellow Zone"
        ],
        [
         230,
         "Manhattan",
         "Times Sq/Theatre District",
         "Yellow Zone"
        ],
        [
         231,
         "Manhattan",
         "TriBeCa/Civic Center",
         "Yellow Zone"
        ],
        [
         232,
         "Manhattan",
         "Two Bridges/Seward Park",
         "Yellow Zone"
        ],
        [
         233,
         "Manhattan",
         "UN/Turtle Bay South",
         "Yellow Zone"
        ],
        [
         234,
         "Manhattan",
         "Union Sq",
         "Yellow Zone"
        ],
        [
         235,
         "Bronx",
         "University Heights/Morris Heights",
         "Boro Zone"
        ],
        [
         236,
         "Manhattan",
         "Upper East Side North",
         "Yellow Zone"
        ],
        [
         237,
         "Manhattan",
         "Upper East Side South",
         "Yellow Zone"
        ],
        [
         238,
         "Manhattan",
         "Upper West Side North",
         "Yellow Zone"
        ],
        [
         239,
         "Manhattan",
         "Upper West Side South",
         "Yellow Zone"
        ],
        [
         240,
         "Bronx",
         "Van Cortlandt Park",
         "Boro Zone"
        ],
        [
         241,
         "Bronx",
         "Van Cortlandt Village",
         "Boro Zone"
        ],
        [
         242,
         "Bronx",
         "Van Nest/Morris Park",
         "Boro Zone"
        ],
        [
         243,
         "Manhattan",
         "Washington Heights North",
         "Boro Zone"
        ],
        [
         244,
         "Manhattan",
         "Washington Heights South",
         "Boro Zone"
        ],
        [
         245,
         "Staten Island",
         "West Brighton",
         "Boro Zone"
        ],
        [
         246,
         "Manhattan",
         "West Chelsea/Hudson Yards",
         "Yellow Zone"
        ],
        [
         247,
         "Bronx",
         "West Concourse",
         "Boro Zone"
        ],
        [
         248,
         "Bronx",
         "West Farms/Bronx River",
         "Boro Zone"
        ],
        [
         249,
         "Manhattan",
         "West Village",
         "Yellow Zone"
        ],
        [
         250,
         "Bronx",
         "Westchester Village/Unionport",
         "Boro Zone"
        ],
        [
         251,
         "Staten Island",
         "Westerleigh",
         "Boro Zone"
        ],
        [
         252,
         "Queens",
         "Whitestone",
         "Boro Zone"
        ],
        [
         253,
         "Queens",
         "Willets Point",
         "Boro Zone"
        ],
        [
         254,
         "Bronx",
         "Williamsbridge/Olinville",
         "Boro Zone"
        ],
        [
         255,
         "Brooklyn",
         "Williamsburg (North Side)",
         "Boro Zone"
        ],
        [
         256,
         "Brooklyn",
         "Williamsburg (South Side)",
         "Boro Zone"
        ],
        [
         257,
         "Brooklyn",
         "Windsor Terrace",
         "Boro Zone"
        ],
        [
         258,
         "Queens",
         "Woodhaven",
         "Boro Zone"
        ],
        [
         259,
         "Bronx",
         "Woodlawn/Wakefield",
         "Boro Zone"
        ],
        [
         260,
         "Queens",
         "Woodside",
         "Boro Zone"
        ],
        [
         261,
         "Manhattan",
         "World Trade Center",
         "Yellow Zone"
        ],
        [
         262,
         "Manhattan",
         "Yorkville East",
         "Yellow Zone"
        ],
        [
         263,
         "Manhattan",
         "Yorkville West",
         "Yellow Zone"
        ],
        [
         264,
         "Unknown",
         "N/A",
         "N/A"
        ],
        [
         265,
         "N/A",
         "Outside of NYC",
         "N/A"
        ]
       ],
       "datasetInfos": [],
       "dbfsResultPath": null,
       "isJsonSchema": true,
       "metadata": {},
       "overflow": false,
       "plotOptions": {
        "customPlotOptions": {},
        "displayType": "table",
        "pivotAggregation": null,
        "pivotColumns": null,
        "xColumns": null,
        "yColumns": null
       },
       "removedWidgets": [],
       "schema": [
        {
         "metadata": "{}",
         "name": "LocationID",
         "type": "\"integer\""
        },
        {
         "metadata": "{}",
         "name": "Borough",
         "type": "\"string\""
        },
        {
         "metadata": "{}",
         "name": "Zone",
         "type": "\"string\""
        },
        {
         "metadata": "{}",
         "name": "service_zone",
         "type": "\"string\""
        }
       ],
       "type": "table"
      }
     },
     "output_type": "display_data"
    }
   ],
   "source": [
    "df = spark.read.csv('/mnt/robot-dreams-source-mount/Lecture_3/nyc_taxi/taxi_zone_lookup.csv', header=True, inferSchema=True)\n",
    "display(df)\n",
    "\n"
   ]
  },
  {
   "cell_type": "code",
   "execution_count": 0,
   "metadata": {
    "application/vnd.databricks.v1+cell": {
     "cellMetadata": {
      "byteLimit": 2048000,
      "implicitDf": true,
      "rowLimit": 10000
     },
     "inputWidgets": {},
     "nuid": "6de0c4d5-fb25-4dce-8b7d-9482bb1ce8e1",
     "showTitle": false,
     "tableResultSettingsMap": {},
     "title": ""
    }
   },
   "outputs": [],
   "source": [
    "%sql\n",
    "CREATE CATALOG igor_zabelkin_nyc_catalog\n",
    "MANAGED LOCATION 's3://izabelkin-emr-databricks/igor_zabelkin_nyc_catalog/';\n"
   ]
  },
  {
   "cell_type": "code",
   "execution_count": 0,
   "metadata": {
    "application/vnd.databricks.v1+cell": {
     "cellMetadata": {
      "byteLimit": 2048000,
      "implicitDf": true,
      "rowLimit": 10000
     },
     "inputWidgets": {},
     "nuid": "2f5d0cee-7996-4ae3-b450-3d726109eba7",
     "showTitle": false,
     "tableResultSettingsMap": {},
     "title": ""
    }
   },
   "outputs": [],
   "source": [
    "%sql\n",
    "USE CATALOG igor_zabelkin_nyc_catalog;\n"
   ]
  },
  {
   "cell_type": "code",
   "execution_count": 0,
   "metadata": {
    "application/vnd.databricks.v1+cell": {
     "cellMetadata": {
      "byteLimit": 2048000,
      "implicitDf": true,
      "rowLimit": 10000
     },
     "inputWidgets": {},
     "nuid": "dd3b3eaf-a573-4b17-a8b1-a6e2aee07eb3",
     "showTitle": false,
     "tableResultSettingsMap": {},
     "title": ""
    }
   },
   "outputs": [],
   "source": [
    "%sql\n",
    "CREATE SCHEMA trips_schema;\n"
   ]
  },
  {
   "cell_type": "code",
   "execution_count": 0,
   "metadata": {
    "application/vnd.databricks.v1+cell": {
     "cellMetadata": {
      "byteLimit": 2048000,
      "implicitDf": true,
      "rowLimit": 10000
     },
     "inputWidgets": {},
     "nuid": "b87c3227-eee5-46a5-96f3-82cc72084f6a",
     "showTitle": false,
     "tableResultSettingsMap": {},
     "title": ""
    }
   },
   "outputs": [],
   "source": [
    "%sql\n",
    "USE SCHEMA trips_schema;"
   ]
  },
  {
   "cell_type": "code",
   "execution_count": 0,
   "metadata": {
    "application/vnd.databricks.v1+cell": {
     "cellMetadata": {
      "byteLimit": 2048000,
      "rowLimit": 10000
     },
     "inputWidgets": {},
     "nuid": "23492c87-54f5-4c78-a8e6-7ee2b57cd414",
     "showTitle": false,
     "tableResultSettingsMap": {},
     "title": ""
    }
   },
   "outputs": [],
   "source": [
    "YELLOW_PATH = \"/mnt/robot-dreams-source-mount/home-work-1-unified/nyc_taxi/yellow/\"\n",
    "GREEN_PATH = \"/mnt/robot-dreams-source-mount/home-work-1-unified/nyc_taxi/green/\"\n",
    "ZONES_PATH = \"/mnt/robot-dreams-source-mount/home-work-1-unified/nyc_taxi/taxi_zone_lookup.csv\"\n",
    "\n",
    "yellow_df = spark.read.option(\"recursiveFileLookup\", \"true\").parquet(YELLOW_PATH)\n",
    "green_df = spark.read.option(\"recursiveFileLookup\", \"true\").parquet(GREEN_PATH)\n",
    "#zones_df = spark.read.option(\"header\", \"true\").csv(ZONES_PATH)\n"
   ]
  },
  {
   "cell_type": "code",
   "execution_count": 0,
   "metadata": {
    "application/vnd.databricks.v1+cell": {
     "cellMetadata": {
      "byteLimit": 2048000,
      "rowLimit": 10000
     },
     "inputWidgets": {},
     "nuid": "a9cf23e2-4dbf-4655-9976-c916c6b02c39",
     "showTitle": false,
     "tableResultSettingsMap": {},
     "title": ""
    }
   },
   "outputs": [],
   "source": [
    "from pyspark.sql.functions import col, lit\n",
    "yellow_df = yellow_df.withColumn(\"taxi_type\", lit(\"yellow\"))\n",
    "green_df = green_df.withColumn(\"taxi_type\", lit(\"green\"))\n"
   ]
  },
  {
   "cell_type": "code",
   "execution_count": 0,
   "metadata": {
    "application/vnd.databricks.v1+cell": {
     "cellMetadata": {
      "byteLimit": 2048000,
      "rowLimit": 10000
     },
     "inputWidgets": {},
     "nuid": "f6896d90-91c6-4d50-bd16-0d21b23db8ee",
     "showTitle": false,
     "tableResultSettingsMap": {},
     "title": ""
    }
   },
   "outputs": [],
   "source": [
    "trips_df = yellow_df.unionByName(green_df)\n"
   ]
  },
  {
   "cell_type": "code",
   "execution_count": 0,
   "metadata": {
    "application/vnd.databricks.v1+cell": {
     "cellMetadata": {
      "byteLimit": 2048000,
      "rowLimit": 10000
     },
     "inputWidgets": {},
     "nuid": "253dbf1c-f1ac-4a4a-bd00-ea52619244cc",
     "showTitle": false,
     "tableResultSettingsMap": {},
     "title": ""
    }
   },
   "outputs": [],
   "source": [
    "from pyspark.sql.functions import unix_timestamp\n",
    "\n",
    "trips_df = trips_df.withColumn(\n",
    "    \"duration_min\",\n",
    "    (unix_timestamp(\"tpep_dropoff_datetime\") - unix_timestamp(\"tpep_pickup_datetime\")) / 60\n",
    ")\n",
    "\n",
    "trips_df = trips_df.filter(\n",
    "    (col(\"trip_distance\") >= 0.1) &\n",
    "    (col(\"fare_amount\") >= 2.0) &\n",
    "    (col(\"duration_min\") >= 1.0)\n",
    ")\n"
   ]
  },
  {
   "cell_type": "code",
   "execution_count": 0,
   "metadata": {
    "application/vnd.databricks.v1+cell": {
     "cellMetadata": {
      "byteLimit": 2048000,
      "rowLimit": 10000
     },
     "inputWidgets": {},
     "nuid": "95ebfd21-36d0-4e35-a91b-4393049111c2",
     "showTitle": false,
     "tableResultSettingsMap": {},
     "title": ""
    }
   },
   "outputs": [],
   "source": [
    "from pyspark.sql.functions import hour, date_format\n",
    "\n",
    "trips_df = trips_df \\\n",
    "    .withColumn(\"pickup_hour\", hour(\"tpep_pickup_datetime\")) \\\n",
    "    .withColumn(\"pickup_day_of_week\", date_format(\"tpep_pickup_datetime\", \"E\"))\n"
   ]
  },
  {
   "cell_type": "code",
   "execution_count": 0,
   "metadata": {
    "application/vnd.databricks.v1+cell": {
     "cellMetadata": {
      "byteLimit": 2048000,
      "rowLimit": 10000
     },
     "inputWidgets": {},
     "nuid": "3540f6c5-007c-417b-b04c-a3d3de829a0c",
     "showTitle": false,
     "tableResultSettingsMap": {},
     "title": ""
    }
   },
   "outputs": [],
   "source": [
    "taxi_zones_df = spark.read.option(\"header\", True).csv(\n",
    "    \"s3a://robot-dreams-source-data/Lecture_3/nyc_taxi/taxi_zone_lookup.csv\"\n",
    ")\n",
    "\n",
    "# JOIN для pickup_zone\n",
    "trips_df = trips_df.join(\n",
    "    taxi_zones_df.withColumnRenamed(\"LocationID\", \"PULocationID\")\n",
    "                 .withColumnRenamed(\"Zone\", \"tpep_pickup_zone\"),\n",
    "    on=\"PULocationID\",\n",
    "    how=\"left\"\n",
    ")\n",
    "\n",
    "# JOIN для dropoff_zone\n",
    "trips_df = trips_df.join(\n",
    "    taxi_zones_df.withColumnRenamed(\"LocationID\", \"DOLocationID\")\n",
    "                 .withColumnRenamed(\"Zone\", \"tpep_dropoff_zone\"),\n",
    "    on=\"DOLocationID\",\n",
    "    how=\"left\"\n",
    ")\n",
    "\n",
    "\n"
   ]
  },
  {
   "cell_type": "code",
   "execution_count": 0,
   "metadata": {
    "application/vnd.databricks.v1+cell": {
     "cellMetadata": {
      "byteLimit": 2048000,
      "rowLimit": 10000
     },
     "inputWidgets": {},
     "nuid": "b77ea533-6e2e-41f7-ac21-4407f9bea0eb",
     "showTitle": false,
     "tableResultSettingsMap": {},
     "title": ""
    }
   },
   "outputs": [],
   "source": [
    "trips_df.write.format(\"delta\").mode(\"overwrite\").saveAsTable(\"igor_zabelkin_nyc_catalog.trips_schema.raw_trips\")\n",
    "\n",
    "\n"
   ]
  },
  {
   "cell_type": "code",
   "execution_count": 0,
   "metadata": {
    "application/vnd.databricks.v1+cell": {
     "cellMetadata": {
      "byteLimit": 2048000,
      "implicitDf": true,
      "rowLimit": 10000
     },
     "inputWidgets": {},
     "nuid": "1a0bc1cb-4020-4fc2-a597-c8c9392e2b0f",
     "showTitle": false,
     "tableResultSettingsMap": {},
     "title": ""
    }
   },
   "outputs": [
    {
     "output_type": "display_data",
     "data": {
      "text/html": [
       "<style scoped>\n",
       "  .table-result-container {\n",
       "    max-height: 300px;\n",
       "    overflow: auto;\n",
       "  }\n",
       "  table, th, td {\n",
       "    border: 1px solid black;\n",
       "    border-collapse: collapse;\n",
       "  }\n",
       "  th, td {\n",
       "    padding: 5px;\n",
       "  }\n",
       "  th {\n",
       "    text-align: left;\n",
       "  }\n",
       "</style><div class='table-result-container'><table class='table-result'><thead style='background-color: white'><tr><th>VendorID</th><th>passenger_count</th><th>trip_distance</th><th>RatecodeID</th><th>store_and_fwd_flag</th><th>PULocationID</th><th>DOLocationID</th><th>payment_type</th><th>fare_amount</th><th>extra</th><th>mta_tax</th><th>tip_amount</th><th>tolls_amount</th><th>improvement_surcharge</th><th>total_amount</th><th>congestion_surcharge</th><th>tpep_pickup_datetime</th><th>tpep_dropoff_datetime</th><th>Airport_fee</th><th>taxi_type</th><th>duration_min</th><th>pickup_hour</th><th>pickup_day_of_week</th></tr></thead><tbody><tr><td>1</td><td>1</td><td>2.0</td><td>1</td><td>N</td><td>107</td><td>249</td><td>1</td><td>9.5</td><td>0.5</td><td>0.5</td><td>2.1</td><td>0.0</td><td>0.0</td><td>12.6</td><td>null</td><td>2014-02-01T00:05:03</td><td>2014-02-01T00:15:44</td><td>null</td><td>yellow</td><td>10.683333333333334</td><td>0</td><td>Sat</td></tr><tr><td>1</td><td>1</td><td>0.7</td><td>1</td><td>N</td><td>158</td><td>90</td><td>1</td><td>4.5</td><td>0.5</td><td>0.5</td><td>1.5</td><td>0.0</td><td>0.0</td><td>7.0</td><td>null</td><td>2014-02-01T00:17:19</td><td>2014-02-01T00:20:15</td><td>null</td><td>yellow</td><td>2.933333333333333</td><td>0</td><td>Sat</td></tr><tr><td>1</td><td>2</td><td>2.4</td><td>1</td><td>N</td><td>234</td><td>246</td><td>1</td><td>11.5</td><td>0.5</td><td>0.5</td><td>2.5</td><td>0.0</td><td>0.0</td><td>15.0</td><td>null</td><td>2014-02-01T00:24:08</td><td>2014-02-01T00:37:07</td><td>null</td><td>yellow</td><td>12.983333333333333</td><td>0</td><td>Sat</td></tr><tr><td>1</td><td>1</td><td>2.3</td><td>1</td><td>N</td><td>107</td><td>140</td><td>1</td><td>9.0</td><td>0.5</td><td>0.5</td><td>2.5</td><td>0.0</td><td>0.0</td><td>12.5</td><td>null</td><td>2014-02-01T00:00:23</td><td>2014-02-01T00:09:26</td><td>null</td><td>yellow</td><td>9.05</td><td>0</td><td>Sat</td></tr><tr><td>1</td><td>1</td><td>0.9</td><td>1</td><td>N</td><td>162</td><td>141</td><td>2</td><td>5.0</td><td>0.5</td><td>0.5</td><td>0.0</td><td>0.0</td><td>0.0</td><td>6.0</td><td>null</td><td>2014-02-01T00:18:58</td><td>2014-02-01T00:22:34</td><td>null</td><td>yellow</td><td>3.6</td><td>0</td><td>Sat</td></tr><tr><td>1</td><td>1</td><td>4.1</td><td>1</td><td>N</td><td>141</td><td>112</td><td>1</td><td>22.5</td><td>0.5</td><td>0.5</td><td>5.85</td><td>0.0</td><td>0.0</td><td>29.35</td><td>null</td><td>2014-02-01T00:24:05</td><td>2014-02-01T00:56:09</td><td>null</td><td>yellow</td><td>32.06666666666667</td><td>0</td><td>Sat</td></tr><tr><td>1</td><td>3</td><td>5.4</td><td>1</td><td>Y</td><td>237</td><td>87</td><td>1</td><td>20.5</td><td>0.5</td><td>0.5</td><td>5.37</td><td>0.0</td><td>0.0</td><td>26.87</td><td>null</td><td>2014-02-01T00:08:11</td><td>2014-02-01T00:34:11</td><td>null</td><td>yellow</td><td>26.0</td><td>0</td><td>Sat</td></tr><tr><td>1</td><td>1</td><td>5.2</td><td>1</td><td>N</td><td>211</td><td>239</td><td>1</td><td>19.0</td><td>0.5</td><td>0.5</td><td>3.0</td><td>0.0</td><td>0.0</td><td>23.0</td><td>null</td><td>2014-02-01T00:51:34</td><td>2014-02-01T01:13:37</td><td>null</td><td>yellow</td><td>22.05</td><td>0</td><td>Sat</td></tr><tr><td>1</td><td>1</td><td>1.0</td><td>1</td><td>N</td><td>246</td><td>48</td><td>1</td><td>5.5</td><td>0.5</td><td>0.5</td><td>1.62</td><td>0.0</td><td>0.0</td><td>8.12</td><td>null</td><td>2014-02-01T00:06:00</td><td>2014-02-01T00:11:28</td><td>null</td><td>yellow</td><td>5.466666666666667</td><td>0</td><td>Sat</td></tr><tr><td>1</td><td>1</td><td>0.9</td><td>1</td><td>N</td><td>230</td><td>170</td><td>2</td><td>6.5</td><td>0.5</td><td>0.5</td><td>0.0</td><td>0.0</td><td>0.0</td><td>7.5</td><td>null</td><td>2014-02-01T00:29:42</td><td>2014-02-01T00:37:02</td><td>null</td><td>yellow</td><td>7.333333333333333</td><td>0</td><td>Sat</td></tr></tbody></table></div>"
      ]
     },
     "metadata": {
      "application/vnd.databricks.v1+output": {
       "addedWidgets": {},
       "aggData": [],
       "aggError": "",
       "aggOverflow": false,
       "aggSchema": [],
       "aggSeriesLimitReached": false,
       "aggType": "",
       "arguments": {},
       "columnCustomDisplayInfos": {},
       "data": [
        [
         1,
         1,
         2.0,
         1,
         "N",
         107,
         249,
         1,
         9.5,
         0.5,
         0.5,
         2.1,
         0.0,
         0.0,
         12.6,
         null,
         "2014-02-01T00:05:03",
         "2014-02-01T00:15:44",
         null,
         "yellow",
         10.683333333333334,
         0,
         "Sat"
        ],
        [
         1,
         1,
         0.7,
         1,
         "N",
         158,
         90,
         1,
         4.5,
         0.5,
         0.5,
         1.5,
         0.0,
         0.0,
         7.0,
         null,
         "2014-02-01T00:17:19",
         "2014-02-01T00:20:15",
         null,
         "yellow",
         2.933333333333333,
         0,
         "Sat"
        ],
        [
         1,
         2,
         2.4,
         1,
         "N",
         234,
         246,
         1,
         11.5,
         0.5,
         0.5,
         2.5,
         0.0,
         0.0,
         15.0,
         null,
         "2014-02-01T00:24:08",
         "2014-02-01T00:37:07",
         null,
         "yellow",
         12.983333333333333,
         0,
         "Sat"
        ],
        [
         1,
         1,
         2.3,
         1,
         "N",
         107,
         140,
         1,
         9.0,
         0.5,
         0.5,
         2.5,
         0.0,
         0.0,
         12.5,
         null,
         "2014-02-01T00:00:23",
         "2014-02-01T00:09:26",
         null,
         "yellow",
         9.05,
         0,
         "Sat"
        ],
        [
         1,
         1,
         0.9,
         1,
         "N",
         162,
         141,
         2,
         5.0,
         0.5,
         0.5,
         0.0,
         0.0,
         0.0,
         6.0,
         null,
         "2014-02-01T00:18:58",
         "2014-02-01T00:22:34",
         null,
         "yellow",
         3.6,
         0,
         "Sat"
        ],
        [
         1,
         1,
         4.1,
         1,
         "N",
         141,
         112,
         1,
         22.5,
         0.5,
         0.5,
         5.85,
         0.0,
         0.0,
         29.35,
         null,
         "2014-02-01T00:24:05",
         "2014-02-01T00:56:09",
         null,
         "yellow",
         32.06666666666667,
         0,
         "Sat"
        ],
        [
         1,
         3,
         5.4,
         1,
         "Y",
         237,
         87,
         1,
         20.5,
         0.5,
         0.5,
         5.37,
         0.0,
         0.0,
         26.87,
         null,
         "2014-02-01T00:08:11",
         "2014-02-01T00:34:11",
         null,
         "yellow",
         26.0,
         0,
         "Sat"
        ],
        [
         1,
         1,
         5.2,
         1,
         "N",
         211,
         239,
         1,
         19.0,
         0.5,
         0.5,
         3.0,
         0.0,
         0.0,
         23.0,
         null,
         "2014-02-01T00:51:34",
         "2014-02-01T01:13:37",
         null,
         "yellow",
         22.05,
         0,
         "Sat"
        ],
        [
         1,
         1,
         1.0,
         1,
         "N",
         246,
         48,
         1,
         5.5,
         0.5,
         0.5,
         1.62,
         0.0,
         0.0,
         8.12,
         null,
         "2014-02-01T00:06:00",
         "2014-02-01T00:11:28",
         null,
         "yellow",
         5.466666666666667,
         0,
         "Sat"
        ],
        [
         1,
         1,
         0.9,
         1,
         "N",
         230,
         170,
         2,
         6.5,
         0.5,
         0.5,
         0.0,
         0.0,
         0.0,
         7.5,
         null,
         "2014-02-01T00:29:42",
         "2014-02-01T00:37:02",
         null,
         "yellow",
         7.333333333333333,
         0,
         "Sat"
        ]
       ],
       "datasetInfos": [
        {
         "name": "_sqldf",
         "schema": {
          "fields": [
           {
            "metadata": {},
            "name": "VendorID",
            "nullable": true,
            "type": "long"
           },
           {
            "metadata": {},
            "name": "passenger_count",
            "nullable": true,
            "type": "long"
           },
           {
            "metadata": {},
            "name": "trip_distance",
            "nullable": true,
            "type": "double"
           },
           {
            "metadata": {},
            "name": "RatecodeID",
            "nullable": true,
            "type": "long"
           },
           {
            "metadata": {},
            "name": "store_and_fwd_flag",
            "nullable": true,
            "type": "string"
           },
           {
            "metadata": {},
            "name": "PULocationID",
            "nullable": true,
            "type": "long"
           },
           {
            "metadata": {},
            "name": "DOLocationID",
            "nullable": true,
            "type": "long"
           },
           {
            "metadata": {},
            "name": "payment_type",
            "nullable": true,
            "type": "long"
           },
           {
            "metadata": {},
            "name": "fare_amount",
            "nullable": true,
            "type": "double"
           },
           {
            "metadata": {},
            "name": "extra",
            "nullable": true,
            "type": "double"
           },
           {
            "metadata": {},
            "name": "mta_tax",
            "nullable": true,
            "type": "double"
           },
           {
            "metadata": {},
            "name": "tip_amount",
            "nullable": true,
            "type": "double"
           },
           {
            "metadata": {},
            "name": "tolls_amount",
            "nullable": true,
            "type": "double"
           },
           {
            "metadata": {},
            "name": "improvement_surcharge",
            "nullable": true,
            "type": "double"
           },
           {
            "metadata": {},
            "name": "total_amount",
            "nullable": true,
            "type": "double"
           },
           {
            "metadata": {},
            "name": "congestion_surcharge",
            "nullable": true,
            "type": "double"
           },
           {
            "metadata": {},
            "name": "tpep_pickup_datetime",
            "nullable": true,
            "type": "timestamp_ntz"
           },
           {
            "metadata": {},
            "name": "tpep_dropoff_datetime",
            "nullable": true,
            "type": "timestamp_ntz"
           },
           {
            "metadata": {},
            "name": "Airport_fee",
            "nullable": true,
            "type": "double"
           },
           {
            "metadata": {},
            "name": "taxi_type",
            "nullable": true,
            "type": "string"
           },
           {
            "metadata": {},
            "name": "duration_min",
            "nullable": true,
            "type": "double"
           },
           {
            "metadata": {},
            "name": "pickup_hour",
            "nullable": true,
            "type": "integer"
           },
           {
            "metadata": {},
            "name": "pickup_day_of_week",
            "nullable": true,
            "type": "string"
           }
          ],
          "type": "struct"
         },
         "tableIdentifier": null,
         "typeStr": "pyspark.sql.dataframe.DataFrame"
        }
       ],
       "dbfsResultPath": null,
       "isJsonSchema": true,
       "metadata": {
        "createTempViewForImplicitDf": true,
        "dataframeName": "_sqldf",
        "executionCount": 49
       },
       "overflow": false,
       "plotOptions": {
        "customPlotOptions": {},
        "displayType": "table",
        "pivotAggregation": null,
        "pivotColumns": null,
        "xColumns": null,
        "yColumns": null
       },
       "removedWidgets": [],
       "schema": [
        {
         "metadata": "{}",
         "name": "VendorID",
         "type": "\"long\""
        },
        {
         "metadata": "{}",
         "name": "passenger_count",
         "type": "\"long\""
        },
        {
         "metadata": "{}",
         "name": "trip_distance",
         "type": "\"double\""
        },
        {
         "metadata": "{}",
         "name": "RatecodeID",
         "type": "\"long\""
        },
        {
         "metadata": "{}",
         "name": "store_and_fwd_flag",
         "type": "\"string\""
        },
        {
         "metadata": "{}",
         "name": "PULocationID",
         "type": "\"long\""
        },
        {
         "metadata": "{}",
         "name": "DOLocationID",
         "type": "\"long\""
        },
        {
         "metadata": "{}",
         "name": "payment_type",
         "type": "\"long\""
        },
        {
         "metadata": "{}",
         "name": "fare_amount",
         "type": "\"double\""
        },
        {
         "metadata": "{}",
         "name": "extra",
         "type": "\"double\""
        },
        {
         "metadata": "{}",
         "name": "mta_tax",
         "type": "\"double\""
        },
        {
         "metadata": "{}",
         "name": "tip_amount",
         "type": "\"double\""
        },
        {
         "metadata": "{}",
         "name": "tolls_amount",
         "type": "\"double\""
        },
        {
         "metadata": "{}",
         "name": "improvement_surcharge",
         "type": "\"double\""
        },
        {
         "metadata": "{}",
         "name": "total_amount",
         "type": "\"double\""
        },
        {
         "metadata": "{}",
         "name": "congestion_surcharge",
         "type": "\"double\""
        },
        {
         "metadata": "{}",
         "name": "tpep_pickup_datetime",
         "type": "\"timestamp_ntz\""
        },
        {
         "metadata": "{}",
         "name": "tpep_dropoff_datetime",
         "type": "\"timestamp_ntz\""
        },
        {
         "metadata": "{}",
         "name": "Airport_fee",
         "type": "\"double\""
        },
        {
         "metadata": "{}",
         "name": "taxi_type",
         "type": "\"string\""
        },
        {
         "metadata": "{}",
         "name": "duration_min",
         "type": "\"double\""
        },
        {
         "metadata": "{}",
         "name": "pickup_hour",
         "type": "\"integer\""
        },
        {
         "metadata": "{}",
         "name": "pickup_day_of_week",
         "type": "\"string\""
        }
       ],
       "type": "table"
      }
     },
     "output_type": "display_data"
    }
   ],
   "source": [
    "%sql\n",
    "SELECT * \n",
    "FROM igor_zabelkin_nyc_catalog.trips_schema.raw_trips\n",
    "LIMIT 10;\n"
   ]
  },
  {
   "cell_type": "code",
   "execution_count": 0,
   "metadata": {
    "application/vnd.databricks.v1+cell": {
     "cellMetadata": {
      "byteLimit": 2048000,
      "rowLimit": 10000
     },
     "inputWidgets": {},
     "nuid": "88c184b5-3e82-45af-876b-e07e790bfffd",
     "showTitle": false,
     "tableResultSettingsMap": {},
     "title": ""
    }
   },
   "outputs": [],
   "source": [
    "from pyspark.sql.functions import (\n",
    "    col, count, avg, max, min, sum as _sum, expr\n",
    ")\n",
    "\n",
    "zone_summary_df = trips_df.groupBy(\"tpep_pickup_zone\").agg(\n",
    "  count(\"*\").alias(\"total_trips\"),\n",
    "    avg(\"trip_distance\").alias(\"avg_trip_distance\"),\n",
    "    avg(\"total_amount\").alias(\"avg_total_amount\"),\n",
    "    avg(\"tip_amount\").alias(\"avg_tip_amount\"),\n",
    "    _sum(expr(\"CASE WHEN taxi_type = 'yellow' THEN 1 ELSE 0 END\")).alias(\"yellow_trips\"),\n",
    "    _sum(expr(\"CASE WHEN taxi_type = 'green' THEN 1 ELSE 0 END\")).alias(\"green_trips\"),\n",
    "    max(\"trip_distance\").alias(\"max_trip_distance\"),\n",
    "    min(\"tip_amount\").alias(\"min_tip_amount\"),\n",
    "    _sum(\"total_amount\").alias(\"total_trip_amount\")\n",
    ").withColumn(\n",
    "    \"yellow_share\", col(\"yellow_trips\") / col(\"total_trips\")\n",
    ").withColumn(\n",
    "    \"green_share\", col(\"green_trips\") / col(\"total_trips\")\n",
    ").drop(\"yellow_trips\", \"green_trips\")\n"
   ]
  },
  {
   "cell_type": "code",
   "execution_count": 0,
   "metadata": {
    "application/vnd.databricks.v1+cell": {
     "cellMetadata": {
      "byteLimit": 2048000,
      "rowLimit": 10000
     },
     "inputWidgets": {},
     "nuid": "ecd12104-460a-43fa-a7ee-e169f5b906ec",
     "showTitle": false,
     "tableResultSettingsMap": {},
     "title": ""
    }
   },
   "outputs": [],
   "source": [
    "zone_summary_df.write.format(\"delta\") \\\n",
    "    .mode(\"overwrite\") \\\n",
    "    .saveAsTable(\"igor_zabelkin_nyc_catalog.trips_schema.zone_summary\")\n"
   ]
  },
  {
   "cell_type": "code",
   "execution_count": 0,
   "metadata": {
    "application/vnd.databricks.v1+cell": {
     "cellMetadata": {
      "byteLimit": 2048000,
      "implicitDf": true,
      "rowLimit": 10000
     },
     "inputWidgets": {},
     "nuid": "291228b8-9665-4c72-b5ed-093cf2ec7fcc",
     "showTitle": false,
     "tableResultSettingsMap": {},
     "title": ""
    }
   },
   "outputs": [
    {
     "output_type": "display_data",
     "data": {
      "text/html": [
       "<style scoped>\n",
       "  .table-result-container {\n",
       "    max-height: 300px;\n",
       "    overflow: auto;\n",
       "  }\n",
       "  table, th, td {\n",
       "    border: 1px solid black;\n",
       "    border-collapse: collapse;\n",
       "  }\n",
       "  th, td {\n",
       "    padding: 5px;\n",
       "  }\n",
       "  th {\n",
       "    text-align: left;\n",
       "  }\n",
       "</style><div class='table-result-container'><table class='table-result'><thead style='background-color: white'><tr><th>tpep_pickup_zone</th><th>total_trips</th><th>avg_trip_distance</th><th>avg_total_amount</th><th>avg_tip_amount</th><th>max_trip_distance</th><th>min_tip_amount</th><th>total_trip_amount</th><th>yellow_share</th><th>green_share</th></tr></thead><tbody><tr><td>Homecrest</td><td>12564</td><td>5.402462591531358</td><td>24.67882043935055</td><td>1.4318863419293217</td><td>126.5</td><td>0.0</td><td>310064.7000000003</td><td>1.0</td><td>0.0</td></tr><tr><td>Governor's Island/Ellis Island/Liberty Island</td><td>1867</td><td>3.901039100160685</td><td>18.741730048205675</td><td>1.9904392072844133</td><td>29.1</td><td>0.0</td><td>34990.81</td><td>1.0</td><td>0.0</td></tr><tr><td>Corona</td><td>31674</td><td>13.896767695902007</td><td>34.835970196375506</td><td>3.0720827808297027</td><td>250984.47</td><td>0.0</td><td>1103394.5199999977</td><td>1.0</td><td>0.0</td></tr><tr><td>Bensonhurst West</td><td>13792</td><td>31.847469547563804</td><td>27.815447360788873</td><td>1.467676189095127</td><td>350696.98</td><td>0.0</td><td>383630.65000000014</td><td>1.0</td><td>0.0</td></tr><tr><td>Westerleigh</td><td>601</td><td>8.390948419301163</td><td>41.96752079866888</td><td>3.374292845257903</td><td>90.06</td><td>0.0</td><td>25222.479999999996</td><td>1.0</td><td>0.0</td></tr><tr><td>Newark Airport</td><td>5356</td><td>9.416075429424945</td><td>79.8441598207618</td><td>8.151911874533235</td><td>202.9</td><td>0.0</td><td>427645.3200000002</td><td>1.0</td><td>0.0</td></tr><tr><td>Douglaston</td><td>3276</td><td>9.991883394383393</td><td>41.84302503052495</td><td>2.5622496947496947</td><td>92.0</td><td>0.0</td><td>137077.74999999974</td><td>1.0</td><td>0.0</td></tr><tr><td>Charleston/Tottenville</td><td>1520</td><td>29.433947368421066</td><td>90.90380921052638</td><td>1.9243157894736844</td><td>103.0</td><td>0.0</td><td>138173.7900000001</td><td>1.0</td><td>0.0</td></tr><tr><td>East Concourse/Concourse Village</td><td>35916</td><td>9.26870781824256</td><td>19.71248468649072</td><td>0.9251979619111259</td><td>130074.91</td><td>0.0</td><td>707993.6000000007</td><td>1.0</td><td>0.0</td></tr><tr><td>Pelham Parkway</td><td>9879</td><td>5.780610385666563</td><td>25.234409353173405</td><td>1.1854590545601782</td><td>104.15</td><td>0.0</td><td>249290.73000000007</td><td>1.0</td><td>0.0</td></tr></tbody></table></div>"
      ]
     },
     "metadata": {
      "application/vnd.databricks.v1+output": {
       "addedWidgets": {},
       "aggData": [],
       "aggError": "",
       "aggOverflow": false,
       "aggSchema": [],
       "aggSeriesLimitReached": false,
       "aggType": "",
       "arguments": {},
       "columnCustomDisplayInfos": {},
       "data": [
        [
         "Homecrest",
         12564,
         5.402462591531358,
         24.67882043935055,
         1.4318863419293217,
         126.5,
         0.0,
         310064.7000000003,
         1.0,
         0.0
        ],
        [
         "Governor's Island/Ellis Island/Liberty Island",
         1867,
         3.901039100160685,
         18.741730048205675,
         1.9904392072844133,
         29.1,
         0.0,
         34990.81,
         1.0,
         0.0
        ],
        [
         "Corona",
         31674,
         13.896767695902007,
         34.835970196375506,
         3.0720827808297027,
         250984.47,
         0.0,
         1103394.5199999977,
         1.0,
         0.0
        ],
        [
         "Bensonhurst West",
         13792,
         31.847469547563804,
         27.815447360788873,
         1.467676189095127,
         350696.98,
         0.0,
         383630.65000000014,
         1.0,
         0.0
        ],
        [
         "Westerleigh",
         601,
         8.390948419301163,
         41.96752079866888,
         3.374292845257903,
         90.06,
         0.0,
         25222.479999999996,
         1.0,
         0.0
        ],
        [
         "Newark Airport",
         5356,
         9.416075429424945,
         79.8441598207618,
         8.151911874533235,
         202.9,
         0.0,
         427645.3200000002,
         1.0,
         0.0
        ],
        [
         "Douglaston",
         3276,
         9.991883394383393,
         41.84302503052495,
         2.5622496947496947,
         92.0,
         0.0,
         137077.74999999974,
         1.0,
         0.0
        ],
        [
         "Charleston/Tottenville",
         1520,
         29.433947368421066,
         90.90380921052638,
         1.9243157894736844,
         103.0,
         0.0,
         138173.7900000001,
         1.0,
         0.0
        ],
        [
         "East Concourse/Concourse Village",
         35916,
         9.26870781824256,
         19.71248468649072,
         0.9251979619111259,
         130074.91,
         0.0,
         707993.6000000007,
         1.0,
         0.0
        ],
        [
         "Pelham Parkway",
         9879,
         5.780610385666563,
         25.234409353173405,
         1.1854590545601782,
         104.15,
         0.0,
         249290.73000000007,
         1.0,
         0.0
        ]
       ],
       "datasetInfos": [
        {
         "name": "_sqldf",
         "schema": {
          "fields": [
           {
            "metadata": {},
            "name": "tpep_pickup_zone",
            "nullable": true,
            "type": "string"
           },
           {
            "metadata": {},
            "name": "total_trips",
            "nullable": true,
            "type": "long"
           },
           {
            "metadata": {},
            "name": "avg_trip_distance",
            "nullable": true,
            "type": "double"
           },
           {
            "metadata": {},
            "name": "avg_total_amount",
            "nullable": true,
            "type": "double"
           },
           {
            "metadata": {},
            "name": "avg_tip_amount",
            "nullable": true,
            "type": "double"
           },
           {
            "metadata": {},
            "name": "max_trip_distance",
            "nullable": true,
            "type": "double"
           },
           {
            "metadata": {},
            "name": "min_tip_amount",
            "nullable": true,
            "type": "double"
           },
           {
            "metadata": {},
            "name": "total_trip_amount",
            "nullable": true,
            "type": "double"
           },
           {
            "metadata": {},
            "name": "yellow_share",
            "nullable": true,
            "type": "double"
           },
           {
            "metadata": {},
            "name": "green_share",
            "nullable": true,
            "type": "double"
           }
          ],
          "type": "struct"
         },
         "tableIdentifier": null,
         "typeStr": "pyspark.sql.dataframe.DataFrame"
        }
       ],
       "dbfsResultPath": null,
       "isJsonSchema": true,
       "metadata": {
        "createTempViewForImplicitDf": true,
        "dataframeName": "_sqldf",
        "executionCount": 67
       },
       "overflow": false,
       "plotOptions": {
        "customPlotOptions": {},
        "displayType": "table",
        "pivotAggregation": null,
        "pivotColumns": null,
        "xColumns": null,
        "yColumns": null
       },
       "removedWidgets": [],
       "schema": [
        {
         "metadata": "{}",
         "name": "tpep_pickup_zone",
         "type": "\"string\""
        },
        {
         "metadata": "{}",
         "name": "total_trips",
         "type": "\"long\""
        },
        {
         "metadata": "{}",
         "name": "avg_trip_distance",
         "type": "\"double\""
        },
        {
         "metadata": "{}",
         "name": "avg_total_amount",
         "type": "\"double\""
        },
        {
         "metadata": "{}",
         "name": "avg_tip_amount",
         "type": "\"double\""
        },
        {
         "metadata": "{}",
         "name": "max_trip_distance",
         "type": "\"double\""
        },
        {
         "metadata": "{}",
         "name": "min_tip_amount",
         "type": "\"double\""
        },
        {
         "metadata": "{}",
         "name": "total_trip_amount",
         "type": "\"double\""
        },
        {
         "metadata": "{}",
         "name": "yellow_share",
         "type": "\"double\""
        },
        {
         "metadata": "{}",
         "name": "green_share",
         "type": "\"double\""
        }
       ],
       "type": "table"
      }
     },
     "output_type": "display_data"
    }
   ],
   "source": [
    "%sql\n",
    "SELECT * \n",
    "FROM igor_zabelkin_nyc_catalog.trips_schema.zone_summary\n",
    "LIMIT 10;"
   ]
  },
  {
   "cell_type": "code",
   "execution_count": 0,
   "metadata": {
    "application/vnd.databricks.v1+cell": {
     "cellMetadata": {
      "byteLimit": 2048000,
      "rowLimit": 10000
     },
     "inputWidgets": {},
     "nuid": "38f2bb3a-369e-41a2-94a4-e93388767b4c",
     "showTitle": false,
     "tableResultSettingsMap": {},
     "title": ""
    }
   },
   "outputs": [],
   "source": [
    "from pyspark.sql.functions import col, when, count, avg, sum as _sum\n",
    "\n",
    "# Створення колонки is_high_fare\n",
    "trips_df = trips_df.withColumn(\"is_high_fare\", when(col(\"fare_amount\") > 30, 1).otherwise(0))\n",
    "\n",
    "# Агрегація по pickup_day_of_week\n",
    "agg_by_day_df = trips_df.groupBy(\"pickup_day_of_week\").agg(\n",
    "    count(\"*\").alias(\"total_trips_per_day\"),\n",
    "    avg(\"duration_min\").alias(\"avg_duration_per_zone\"),\n",
    "    (_sum(\"is_high_fare\") / count(\"*\")).alias(\"high_fare_share\")\n",
    ")\n"
   ]
  },
  {
   "cell_type": "code",
   "execution_count": 0,
   "metadata": {
    "application/vnd.databricks.v1+cell": {
     "cellMetadata": {
      "byteLimit": 2048000,
      "rowLimit": 10000
     },
     "inputWidgets": {},
     "nuid": "48e894d5-6ad5-431d-b1af-8cee0e3ede36",
     "showTitle": false,
     "tableResultSettingsMap": {},
     "title": ""
    }
   },
   "outputs": [],
   "source": [
    "agg_by_day_df.write.format(\"delta\") \\\n",
    "    .mode(\"overwrite\") \\\n",
    "    .saveAsTable(\"igor_zabelkin_nyc_catalog.trips_schema.zone_days_summary\")\n"
   ]
  },
  {
   "cell_type": "code",
   "execution_count": 0,
   "metadata": {
    "application/vnd.databricks.v1+cell": {
     "cellMetadata": {
      "byteLimit": 2048000,
      "implicitDf": true,
      "rowLimit": 10000
     },
     "inputWidgets": {},
     "nuid": "ea93e122-d1fa-42d0-9db7-9e20b721d95d",
     "showTitle": false,
     "tableResultSettingsMap": {},
     "title": ""
    }
   },
   "outputs": [
    {
     "output_type": "display_data",
     "data": {
      "text/html": [
       "<style scoped>\n",
       "  .table-result-container {\n",
       "    max-height: 300px;\n",
       "    overflow: auto;\n",
       "  }\n",
       "  table, th, td {\n",
       "    border: 1px solid black;\n",
       "    border-collapse: collapse;\n",
       "  }\n",
       "  th, td {\n",
       "    padding: 5px;\n",
       "  }\n",
       "  th {\n",
       "    text-align: left;\n",
       "  }\n",
       "</style><div class='table-result-container'><table class='table-result'><thead style='background-color: white'><tr><th>pickup_day_of_week</th><th>total_trips_per_day</th><th>avg_duration_per_zone</th><th>high_fare_share</th></tr></thead><tbody><tr><td>Sun</td><td>96476303</td><td>17.16877265273479</td><td>0.07786781589257209</td></tr><tr><td>Mon</td><td>94955153</td><td>17.59578114926912</td><td>0.08030722671785911</td></tr><tr><td>Thu</td><td>110419470</td><td>19.159769097183226</td><td>0.07601533497670293</td></tr><tr><td>Sat</td><td>110640675</td><td>16.984093358221674</td><td>0.056443220361770206</td></tr><tr><td>Wed</td><td>108052890</td><td>24.946931851614615</td><td>0.07124805268975222</td></tr><tr><td>Fri</td><td>112035832</td><td>18.19801555556513</td><td>0.07401966720789828</td></tr><tr><td>Tue</td><td>103241476</td><td>17.69097570098703</td><td>0.07065596388800176</td></tr></tbody></table></div>"
      ]
     },
     "metadata": {
      "application/vnd.databricks.v1+output": {
       "addedWidgets": {},
       "aggData": [],
       "aggError": "",
       "aggOverflow": false,
       "aggSchema": [],
       "aggSeriesLimitReached": false,
       "aggType": "",
       "arguments": {},
       "columnCustomDisplayInfos": {},
       "data": [
        [
         "Sun",
         96476303,
         17.16877265273479,
         0.07786781589257209
        ],
        [
         "Mon",
         94955153,
         17.59578114926912,
         0.08030722671785911
        ],
        [
         "Thu",
         110419470,
         19.159769097183226,
         0.07601533497670293
        ],
        [
         "Sat",
         110640675,
         16.984093358221674,
         0.056443220361770206
        ],
        [
         "Wed",
         108052890,
         24.946931851614615,
         0.07124805268975222
        ],
        [
         "Fri",
         112035832,
         18.19801555556513,
         0.07401966720789828
        ],
        [
         "Tue",
         103241476,
         17.69097570098703,
         0.07065596388800176
        ]
       ],
       "datasetInfos": [
        {
         "name": "_sqldf",
         "schema": {
          "fields": [
           {
            "metadata": {},
            "name": "pickup_day_of_week",
            "nullable": true,
            "type": "string"
           },
           {
            "metadata": {},
            "name": "total_trips_per_day",
            "nullable": true,
            "type": "long"
           },
           {
            "metadata": {},
            "name": "avg_duration_per_zone",
            "nullable": true,
            "type": "double"
           },
           {
            "metadata": {},
            "name": "high_fare_share",
            "nullable": true,
            "type": "double"
           }
          ],
          "type": "struct"
         },
         "tableIdentifier": null,
         "typeStr": "pyspark.sql.dataframe.DataFrame"
        }
       ],
       "dbfsResultPath": null,
       "isJsonSchema": true,
       "metadata": {
        "createTempViewForImplicitDf": true,
        "dataframeName": "_sqldf",
        "executionCount": 70
       },
       "overflow": false,
       "plotOptions": {
        "customPlotOptions": {},
        "displayType": "table",
        "pivotAggregation": null,
        "pivotColumns": null,
        "xColumns": null,
        "yColumns": null
       },
       "removedWidgets": [],
       "schema": [
        {
         "metadata": "{}",
         "name": "pickup_day_of_week",
         "type": "\"string\""
        },
        {
         "metadata": "{}",
         "name": "total_trips_per_day",
         "type": "\"long\""
        },
        {
         "metadata": "{}",
         "name": "avg_duration_per_zone",
         "type": "\"double\""
        },
        {
         "metadata": "{}",
         "name": "high_fare_share",
         "type": "\"double\""
        }
       ],
       "type": "table"
      }
     },
     "output_type": "display_data"
    }
   ],
   "source": [
    "%sql\n",
    "SELECT * \n",
    "FROM igor_zabelkin_nyc_catalog.trips_schema.zone_days_summary\n",
    "LIMIT 10;"
   ]
  }
 ],
 "metadata": {
  "application/vnd.databricks.v1+notebook": {
   "computePreferences": null,
   "dashboards": [],
   "environmentMetadata": {
    "base_environment": "",
    "environment_version": "2"
   },
   "inputWidgetPreferences": null,
   "language": "python",
   "notebookMetadata": {
    "mostRecentlyExecutedCommandWithImplicitDF": {
     "commandId": 6654435268778213,
     "dataframes": [
      "_sqldf"
     ]
    },
    "pythonIndentUnit": 4
   },
   "notebookName": "Untitled Notebook 2025-07-25 17:45:51",
   "widgets": {}
  },
  "language_info": {
   "name": "python"
  }
 },
 "nbformat": 4,
 "nbformat_minor": 0
}