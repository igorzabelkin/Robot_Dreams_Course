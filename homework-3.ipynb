{
 "cells": [
  {
   "cell_type": "code",
   "execution_count": 1,
   "id": "2e29a46e-cad1-4fb9-8f22-46b9e8b04070",
   "metadata": {
    "execution": {
     "iopub.status.idle": "2022-01-01T00:00:00.0Z",
     "shell.execute_reply": "2022-01-01T00:00:00.0Z",
     "shell.execute_reply.started": "2022-01-01T00:00:00.0Z"
    },
    "tags": []
   },
   "outputs": [
    {
     "data": {
      "application/vnd.jupyter.widget-view+json": {
       "model_id": "1af339ffbe9f4f5589d463584931ea95",
       "version_major": 2,
       "version_minor": 0
      },
      "text/plain": [
       "VBox()"
      ]
     },
     "metadata": {},
     "output_type": "display_data"
    },
    {
     "name": "stdout",
     "output_type": "stream",
     "text": [
      "Starting Spark application\n"
     ]
    },
    {
     "data": {
      "text/html": [
       "<table>\n<tbody><tr><th>ID</th><th>YARN Application ID</th><th>Kind</th><th>State</th><th>Spark UI</th><th>Driver log</th><th>User</th><th>Current session?</th></tr><tr><td>5</td><td>application_1752831585852_0006</td><td>pyspark</td><td>idle</td><td><a target=\"_blank\" href=\"http://ip-172-31-8-201.eu-north-1.compute.internal:20888/proxy/application_1752831585852_0006/\" class=\"emr-proxy-link j-R6FU023NI8HL application_1752831585852_0006\" emr-resource=\"j-R6FU023NI8HL\n\" application-id=\"application_1752831585852_0006\">Link</a></td><td><a target=\"_blank\" href=\"http://ip-172-31-7-131.eu-north-1.compute.internal:8042/node/containerlogs/container_1752831585852_0006_01_000001/livy\">Link</a></td><td>None</td><td>✔</td></tr></tbody></table>"
      ],
      "text/plain": [
       "<IPython.core.display.HTML object>"
      ]
     },
     "metadata": {},
     "output_type": "display_data"
    },
    {
     "data": {
      "application/vnd.jupyter.widget-view+json": {
       "model_id": "",
       "version_major": 2,
       "version_minor": 0
      },
      "text/plain": [
       "FloatProgress(value=0.0, bar_style='info', description='Progress:', layout=Layout(height='25px', width='50%'),…"
      ]
     },
     "metadata": {},
     "output_type": "display_data"
    },
    {
     "name": "stdout",
     "output_type": "stream",
     "text": [
      "SparkSession available as 'spark'.\n"
     ]
    },
    {
     "data": {
      "application/vnd.jupyter.widget-view+json": {
       "model_id": "",
       "version_major": 2,
       "version_minor": 0
      },
      "text/plain": [
       "FloatProgress(value=0.0, bar_style='info', description='Progress:', layout=Layout(height='25px', width='50%'),…"
      ]
     },
     "metadata": {},
     "output_type": "display_data"
    },
    {
     "name": "stdout",
     "output_type": "stream",
     "text": [
      "3.5.5-amzn-0"
     ]
    }
   ],
   "source": [
    "print(spark.version)"
   ]
  },
  {
   "cell_type": "code",
   "execution_count": 1,
   "id": "ce278f86-5c6c-44ce-b454-733c13b13cdf",
   "metadata": {
    "execution": {
     "iopub.execute_input": "2025-07-18T12:05:29.853565Z",
     "iopub.status.busy": "2025-07-18T12:05:29.853269Z",
     "iopub.status.idle": "2025-07-18T12:06:09.503259Z",
     "shell.execute_reply": "2025-07-18T12:06:09.502376Z",
     "shell.execute_reply.started": "2025-07-18T12:05:29.853538Z"
    },
    "tags": []
   },
   "outputs": [
    {
     "data": {
      "application/vnd.jupyter.widget-view+json": {
       "model_id": "6315aa00d1404edba060acac0d779205",
       "version_major": 2,
       "version_minor": 0
      },
      "text/plain": [
       "VBox()"
      ]
     },
     "metadata": {},
     "output_type": "display_data"
    },
    {
     "name": "stdout",
     "output_type": "stream",
     "text": [
      "Starting Spark application\n"
     ]
    },
    {
     "data": {
      "text/html": [
       "<table>\n<tbody><tr><th>ID</th><th>YARN Application ID</th><th>Kind</th><th>State</th><th>Spark UI</th><th>Driver log</th><th>User</th><th>Current session?</th></tr><tr><td>6</td><td>application_1752831585852_0007</td><td>pyspark</td><td>idle</td><td><a target=\"_blank\" href=\"http://ip-172-31-8-201.eu-north-1.compute.internal:20888/proxy/application_1752831585852_0007/\" class=\"emr-proxy-link j-R6FU023NI8HL application_1752831585852_0007\" emr-resource=\"j-R6FU023NI8HL\n\" application-id=\"application_1752831585852_0007\">Link</a></td><td><a target=\"_blank\" href=\"http://ip-172-31-7-131.eu-north-1.compute.internal:8042/node/containerlogs/container_1752831585852_0007_01_000001/livy\">Link</a></td><td>None</td><td>✔</td></tr></tbody></table>"
      ],
      "text/plain": [
       "<IPython.core.display.HTML object>"
      ]
     },
     "metadata": {},
     "output_type": "display_data"
    },
    {
     "data": {
      "application/vnd.jupyter.widget-view+json": {
       "model_id": "",
       "version_major": 2,
       "version_minor": 0
      },
      "text/plain": [
       "FloatProgress(value=0.0, bar_style='info', description='Progress:', layout=Layout(height='25px', width='50%'),…"
      ]
     },
     "metadata": {},
     "output_type": "display_data"
    },
    {
     "name": "stdout",
     "output_type": "stream",
     "text": [
      "SparkSession available as 'spark'.\n"
     ]
    },
    {
     "data": {
      "application/vnd.jupyter.widget-view+json": {
       "model_id": "",
       "version_major": 2,
       "version_minor": 0
      },
      "text/plain": [
       "FloatProgress(value=0.0, bar_style='info', description='Progress:', layout=Layout(height='25px', width='50%'),…"
      ]
     },
     "metadata": {},
     "output_type": "display_data"
    }
   ],
   "source": [
    "from pyspark.sql import SparkSession\n",
    "\n",
    "spark = SparkSession.builder.appName(\"Taxi Analysis\").getOrCreate()\n"
   ]
  },
  {
   "cell_type": "code",
   "execution_count": 2,
   "id": "89bb1acf-0519-442f-bf5f-4ca5df09bd78",
   "metadata": {
    "execution": {
     "iopub.execute_input": "2025-07-18T12:06:12.459625Z",
     "iopub.status.busy": "2025-07-18T12:06:12.459388Z",
     "iopub.status.idle": "2025-07-18T12:06:12.502859Z",
     "shell.execute_reply": "2025-07-18T12:06:12.502281Z",
     "shell.execute_reply.started": "2025-07-18T12:06:12.459600Z"
    },
    "tags": []
   },
   "outputs": [
    {
     "data": {
      "application/vnd.jupyter.widget-view+json": {
       "model_id": "0174ca65123b4ebfa1c97fa4f63af405",
       "version_major": 2,
       "version_minor": 0
      },
      "text/plain": [
       "VBox()"
      ]
     },
     "metadata": {},
     "output_type": "display_data"
    },
    {
     "data": {
      "application/vnd.jupyter.widget-view+json": {
       "model_id": "",
       "version_major": 2,
       "version_minor": 0
      },
      "text/plain": [
       "FloatProgress(value=0.0, bar_style='info', description='Progress:', layout=Layout(height='25px', width='50%'),…"
      ]
     },
     "metadata": {},
     "output_type": "display_data"
    }
   ],
   "source": [
    "from pyspark.sql.types import StructType, StructField, StringType, IntegerType, DoubleType, TimestampType, LongType\n",
    "import pyspark.sql.functions as F\n",
    "\n",
    "YELLOW_TAXI_PATH = f\"s3://robot-dreams-source-data/home-work-1-unified/nyc_taxi/yellow/\"\n",
    "GREEN_TAXI_PATH = f\"s3://robot-dreams-source-data/home-work-1-unified/nyc_taxi/green/\""
   ]
  },
  {
   "cell_type": "code",
   "execution_count": 3,
   "id": "8f8eee55-8d7b-4a58-8941-6e095023c682",
   "metadata": {
    "execution": {
     "iopub.execute_input": "2025-07-18T12:06:15.050126Z",
     "iopub.status.busy": "2025-07-18T12:06:15.049867Z",
     "iopub.status.idle": "2025-07-18T12:06:22.339137Z",
     "shell.execute_reply": "2025-07-18T12:06:22.338437Z",
     "shell.execute_reply.started": "2025-07-18T12:06:15.050099Z"
    },
    "tags": []
   },
   "outputs": [
    {
     "data": {
      "application/vnd.jupyter.widget-view+json": {
       "model_id": "04a4d40dbf57460c9c9cd704604cb8ce",
       "version_major": 2,
       "version_minor": 0
      },
      "text/plain": [
       "VBox()"
      ]
     },
     "metadata": {},
     "output_type": "display_data"
    },
    {
     "data": {
      "application/vnd.jupyter.widget-view+json": {
       "model_id": "",
       "version_major": 2,
       "version_minor": 0
      },
      "text/plain": [
       "FloatProgress(value=0.0, bar_style='info', description='Progress:', layout=Layout(height='25px', width='50%'),…"
      ]
     },
     "metadata": {},
     "output_type": "display_data"
    }
   ],
   "source": [
    "from pyspark.sql.functions import col, lit\n",
    "from pyspark.sql.types import DoubleType, IntegerType\n",
    "\n",
    "# Чтение parquet-файлов\n",
    "yellow_df = spark.read.option(\"recursiveFileLookup\", \"true\").parquet(YELLOW_TAXI_PATH)\n",
    "green_df =  spark.read.option(\"recursiveFileLookup\", \"true\").parquet(GREEN_TAXI_PATH)"
   ]
  },
  {
   "cell_type": "code",
   "execution_count": 7,
   "id": "2bf1ecc0-7e96-45eb-b77a-9be4b2946af3",
   "metadata": {
    "execution": {
     "iopub.execute_input": "2025-07-18T12:09:43.826306Z",
     "iopub.status.busy": "2025-07-18T12:09:43.826074Z",
     "iopub.status.idle": "2025-07-18T12:09:53.111306Z",
     "shell.execute_reply": "2025-07-18T12:09:53.110571Z",
     "shell.execute_reply.started": "2025-07-18T12:09:43.826278Z"
    },
    "tags": []
   },
   "outputs": [
    {
     "data": {
      "application/vnd.jupyter.widget-view+json": {
       "model_id": "8d8af478ef754b06bfb5d611edc77ae6",
       "version_major": 2,
       "version_minor": 0
      },
      "text/plain": [
       "VBox()"
      ]
     },
     "metadata": {},
     "output_type": "display_data"
    },
    {
     "data": {
      "application/vnd.jupyter.widget-view+json": {
       "model_id": "",
       "version_major": 2,
       "version_minor": 0
      },
      "text/plain": [
       "FloatProgress(value=0.0, bar_style='info', description='Progress:', layout=Layout(height='25px', width='50%'),…"
      ]
     },
     "metadata": {},
     "output_type": "display_data"
    },
    {
     "name": "stdout",
     "output_type": "stream",
     "text": [
      "root\n",
      " |-- VendorID: long (nullable = true)\n",
      " |-- passenger_count: long (nullable = true)\n",
      " |-- trip_distance: double (nullable = true)\n",
      " |-- RatecodeID: long (nullable = true)\n",
      " |-- store_and_fwd_flag: string (nullable = true)\n",
      " |-- PULocationID: long (nullable = true)\n",
      " |-- DOLocationID: long (nullable = true)\n",
      " |-- payment_type: long (nullable = true)\n",
      " |-- fare_amount: double (nullable = true)\n",
      " |-- extra: double (nullable = true)\n",
      " |-- mta_tax: double (nullable = true)\n",
      " |-- tip_amount: double (nullable = true)\n",
      " |-- tolls_amount: double (nullable = true)\n",
      " |-- improvement_surcharge: double (nullable = true)\n",
      " |-- total_amount: double (nullable = true)\n",
      " |-- congestion_surcharge: double (nullable = true)\n",
      " |-- tpep_pickup_datetime: timestamp_ntz (nullable = true)\n",
      " |-- tpep_dropoff_datetime: timestamp_ntz (nullable = true)\n",
      " |-- Airport_fee: double (nullable = true)\n",
      " |-- taxi_type: string (nullable = false)\n",
      "\n",
      "root\n",
      " |-- VendorID: long (nullable = true)\n",
      " |-- passenger_count: long (nullable = true)\n",
      " |-- trip_distance: double (nullable = true)\n",
      " |-- RatecodeID: long (nullable = true)\n",
      " |-- store_and_fwd_flag: string (nullable = true)\n",
      " |-- PULocationID: long (nullable = true)\n",
      " |-- DOLocationID: long (nullable = true)\n",
      " |-- payment_type: long (nullable = true)\n",
      " |-- fare_amount: double (nullable = true)\n",
      " |-- extra: double (nullable = true)\n",
      " |-- mta_tax: double (nullable = true)\n",
      " |-- tip_amount: double (nullable = true)\n",
      " |-- tolls_amount: double (nullable = true)\n",
      " |-- improvement_surcharge: double (nullable = true)\n",
      " |-- total_amount: double (nullable = true)\n",
      " |-- congestion_surcharge: double (nullable = true)\n",
      " |-- tpep_pickup_datetime: timestamp_ntz (nullable = true)\n",
      " |-- tpep_dropoff_datetime: timestamp_ntz (nullable = true)\n",
      " |-- Airport_fee: double (nullable = true)\n",
      " |-- taxi_type: string (nullable = false)\n",
      "\n",
      "+--------+---------------+-------------+----------+------------------+------------+------------+------------+-----------+-----+-------+----------+------------+---------------------+------------+--------------------+--------------------+---------------------+-----------+---------+\n",
      "|VendorID|passenger_count|trip_distance|RatecodeID|store_and_fwd_flag|PULocationID|DOLocationID|payment_type|fare_amount|extra|mta_tax|tip_amount|tolls_amount|improvement_surcharge|total_amount|congestion_surcharge|tpep_pickup_datetime|tpep_dropoff_datetime|Airport_fee|taxi_type|\n",
      "+--------+---------------+-------------+----------+------------------+------------+------------+------------+-----------+-----+-------+----------+------------+---------------------+------------+--------------------+--------------------+---------------------+-----------+---------+\n",
      "|       2|              1|         1.68|         1|                 N|          42|          41|           1|        8.0|  0.5|    0.5|       0.0|         0.0|                  0.3|         9.3|                 0.0|                NULL|                 NULL|       NULL|    green|\n",
      "|       2|              2|         1.94|         1|                 N|         244|         247|           2|        9.0|  0.5|    0.5|       0.0|         0.0|                  0.3|        10.3|                 0.0|                NULL|                 NULL|       NULL|    green|\n",
      "|       2|              3|          1.0|         1|                 N|         244|         243|           2|        6.5|  0.5|    0.5|       0.0|         0.0|                  0.3|         7.8|                 0.0|                NULL|                 NULL|       NULL|    green|\n",
      "|       2|              2|         2.81|         1|                 N|         244|         243|           2|       12.0|  0.5|    0.5|       0.0|         0.0|                  0.3|        13.3|                 0.0|                NULL|                 NULL|       NULL|    green|\n",
      "|       2|              1|         6.79|         1|                 N|          75|         169|           1|       21.0|  0.5|    0.5|       0.0|         0.0|                  0.3|        22.3|                 0.0|                NULL|                 NULL|       NULL|    green|\n",
      "+--------+---------------+-------------+----------+------------------+------------+------------+------------+-----------+-----+-------+----------+------------+---------------------+------------+--------------------+--------------------+---------------------+-----------+---------+\n",
      "only showing top 5 rows"
     ]
    }
   ],
   "source": [
    "green_df.printSchema()\n",
    "yellow_df.printSchema()\n",
    "green_df.show(5)"
   ]
  },
  {
   "cell_type": "code",
   "execution_count": 6,
   "id": "6a03d193-19d1-404c-a90b-d4a69f6cdc9a",
   "metadata": {
    "execution": {
     "iopub.execute_input": "2025-07-18T12:09:37.759554Z",
     "iopub.status.busy": "2025-07-18T12:09:37.759311Z",
     "iopub.status.idle": "2025-07-18T12:09:38.003214Z",
     "shell.execute_reply": "2025-07-18T12:09:38.002560Z",
     "shell.execute_reply.started": "2025-07-18T12:09:37.759517Z"
    },
    "tags": []
   },
   "outputs": [
    {
     "data": {
      "application/vnd.jupyter.widget-view+json": {
       "model_id": "e230b7e20de64eb6a63aaf3f02476660",
       "version_major": 2,
       "version_minor": 0
      },
      "text/plain": [
       "VBox()"
      ]
     },
     "metadata": {},
     "output_type": "display_data"
    },
    {
     "data": {
      "application/vnd.jupyter.widget-view+json": {
       "model_id": "",
       "version_major": 2,
       "version_minor": 0
      },
      "text/plain": [
       "FloatProgress(value=0.0, bar_style='info', description='Progress:', layout=Layout(height='25px', width='50%'),…"
      ]
     },
     "metadata": {},
     "output_type": "display_data"
    }
   ],
   "source": [
    "# Добавление колонки типа такси\n",
    "yellow_df = yellow_df.withColumn(\"taxi_type\", lit(\"yellow\"))\n",
    "green_df = green_df.withColumn(\"taxi_type\", lit(\"green\"))"
   ]
  },
  {
   "cell_type": "code",
   "execution_count": 8,
   "id": "29ebdfde-9eb0-48ff-9aa2-e33e13f27c6b",
   "metadata": {
    "execution": {
     "iopub.execute_input": "2025-07-18T12:10:17.681062Z",
     "iopub.status.busy": "2025-07-18T12:10:17.680841Z",
     "iopub.status.idle": "2025-07-18T12:10:19.947109Z",
     "shell.execute_reply": "2025-07-18T12:10:19.946365Z",
     "shell.execute_reply.started": "2025-07-18T12:10:17.681036Z"
    },
    "tags": []
   },
   "outputs": [
    {
     "data": {
      "application/vnd.jupyter.widget-view+json": {
       "model_id": "8df3c6ccb049443fa2963abb3c2099b8",
       "version_major": 2,
       "version_minor": 0
      },
      "text/plain": [
       "VBox()"
      ]
     },
     "metadata": {},
     "output_type": "display_data"
    },
    {
     "data": {
      "application/vnd.jupyter.widget-view+json": {
       "model_id": "",
       "version_major": 2,
       "version_minor": 0
      },
      "text/plain": [
       "FloatProgress(value=0.0, bar_style='info', description='Progress:', layout=Layout(height='25px', width='50%'),…"
      ]
     },
     "metadata": {},
     "output_type": "display_data"
    },
    {
     "name": "stdout",
     "output_type": "stream",
     "text": [
      "+--------+---------------+-------------+----------+------------------+------------+------------+------------+-----------+-----+-------+----------+------------+---------------------+------------+--------------------+--------------------+---------------------+-----------+---------+\n",
      "|VendorID|passenger_count|trip_distance|RatecodeID|store_and_fwd_flag|PULocationID|DOLocationID|payment_type|fare_amount|extra|mta_tax|tip_amount|tolls_amount|improvement_surcharge|total_amount|congestion_surcharge|tpep_pickup_datetime|tpep_dropoff_datetime|Airport_fee|taxi_type|\n",
      "+--------+---------------+-------------+----------+------------------+------------+------------+------------+-----------+-----+-------+----------+------------+---------------------+------------+--------------------+--------------------+---------------------+-----------+---------+\n",
      "|       1|              1|          0.0|         1|                 N|         140|         140|           2|        2.5|  0.5|    0.5|       0.0|         0.0|                  0.0|         3.5|                NULL| 2014-02-01 00:30:05|  2014-02-01 00:30:17|       NULL|   yellow|\n",
      "|       1|              1|          0.0|         1|                 N|         186|         186|           2|        3.0|  0.5|    0.5|       0.0|         0.0|                  0.0|         4.0|                NULL| 2014-02-01 00:16:52|  2014-02-01 00:18:22|       NULL|   yellow|\n",
      "|       1|              1|          2.0|         1|                 N|         107|         249|           1|        9.5|  0.5|    0.5|       2.1|         0.0|                  0.0|        12.6|                NULL| 2014-02-01 00:05:03|  2014-02-01 00:15:44|       NULL|   yellow|\n",
      "|       1|              1|          0.7|         1|                 N|         158|          90|           1|        4.5|  0.5|    0.5|       1.5|         0.0|                  0.0|         7.0|                NULL| 2014-02-01 00:17:19|  2014-02-01 00:20:15|       NULL|   yellow|\n",
      "|       1|              2|          2.4|         1|                 N|         234|         246|           1|       11.5|  0.5|    0.5|       2.5|         0.0|                  0.0|        15.0|                NULL| 2014-02-01 00:24:08|  2014-02-01 00:37:07|       NULL|   yellow|\n",
      "|       1|              1|          2.3|         1|                 N|         107|         140|           1|        9.0|  0.5|    0.5|       2.5|         0.0|                  0.0|        12.5|                NULL| 2014-02-01 00:00:23|  2014-02-01 00:09:26|       NULL|   yellow|\n",
      "|       1|              1|          0.9|         1|                 N|         162|         141|           2|        5.0|  0.5|    0.5|       0.0|         0.0|                  0.0|         6.0|                NULL| 2014-02-01 00:18:58|  2014-02-01 00:22:34|       NULL|   yellow|\n",
      "|       1|              1|          4.1|         1|                 N|         141|         112|           1|       22.5|  0.5|    0.5|      5.85|         0.0|                  0.0|       29.35|                NULL| 2014-02-01 00:24:05|  2014-02-01 00:56:09|       NULL|   yellow|\n",
      "|       1|              3|          5.4|         1|                 Y|         237|          87|           1|       20.5|  0.5|    0.5|      5.37|         0.0|                  0.0|       26.87|                NULL| 2014-02-01 00:08:11|  2014-02-01 00:34:11|       NULL|   yellow|\n",
      "|       1|              1|          5.2|         1|                 N|         211|         239|           1|       19.0|  0.5|    0.5|       3.0|         0.0|                  0.0|        23.0|                NULL| 2014-02-01 00:51:34|  2014-02-01 01:13:37|       NULL|   yellow|\n",
      "+--------+---------------+-------------+----------+------------------+------------+------------+------------+-----------+-----+-------+----------+------------+---------------------+------------+--------------------+--------------------+---------------------+-----------+---------+\n",
      "only showing top 10 rows"
     ]
    }
   ],
   "source": [
    "# Объединеняем два dataFrame\n",
    "raw_trips_df = yellow_df.unionByName(green_df)\n",
    "\n",
    "raw_trips_df.show(10)"
   ]
  },
  {
   "cell_type": "code",
   "execution_count": 10,
   "id": "77a22df8-2560-46d2-8de4-bbda3c6a0266",
   "metadata": {
    "execution": {
     "iopub.execute_input": "2025-07-18T12:12:13.446389Z",
     "iopub.status.busy": "2025-07-18T12:12:13.446167Z",
     "iopub.status.idle": "2025-07-18T12:12:24.737768Z",
     "shell.execute_reply": "2025-07-18T12:12:24.737114Z",
     "shell.execute_reply.started": "2025-07-18T12:12:13.446364Z"
    },
    "tags": []
   },
   "outputs": [
    {
     "data": {
      "application/vnd.jupyter.widget-view+json": {
       "model_id": "8c14f25eeda94766b5c63d7a8526f203",
       "version_major": 2,
       "version_minor": 0
      },
      "text/plain": [
       "VBox()"
      ]
     },
     "metadata": {},
     "output_type": "display_data"
    },
    {
     "data": {
      "application/vnd.jupyter.widget-view+json": {
       "model_id": "",
       "version_major": 2,
       "version_minor": 0
      },
      "text/plain": [
       "FloatProgress(value=0.0, bar_style='info', description='Progress:', layout=Layout(height='25px', width='50%'),…"
      ]
     },
     "metadata": {},
     "output_type": "display_data"
    },
    {
     "name": "stdout",
     "output_type": "stream",
     "text": [
      "+--------+---------------+-------------+----------+------------------+------------+------------+------------+-----------+-----+-------+----------+------------+---------------------+------------+--------------------+--------------------+---------------------+-----------+---------+------------------+\n",
      "|VendorID|passenger_count|trip_distance|RatecodeID|store_and_fwd_flag|PULocationID|DOLocationID|payment_type|fare_amount|extra|mta_tax|tip_amount|tolls_amount|improvement_surcharge|total_amount|congestion_surcharge|tpep_pickup_datetime|tpep_dropoff_datetime|Airport_fee|taxi_type| trip_duration_min|\n",
      "+--------+---------------+-------------+----------+------------------+------------+------------+------------+-----------+-----+-------+----------+------------+---------------------+------------+--------------------+--------------------+---------------------+-----------+---------+------------------+\n",
      "|       1|              1|          2.0|         1|                 N|         107|         249|           1|        9.5|  0.5|    0.5|       2.1|         0.0|                  0.0|        12.6|                NULL| 2014-02-01 00:05:03|  2014-02-01 00:15:44|       NULL|   yellow|10.683333333333334|\n",
      "|       1|              1|          0.7|         1|                 N|         158|          90|           1|        4.5|  0.5|    0.5|       1.5|         0.0|                  0.0|         7.0|                NULL| 2014-02-01 00:17:19|  2014-02-01 00:20:15|       NULL|   yellow| 2.933333333333333|\n",
      "|       1|              2|          2.4|         1|                 N|         234|         246|           1|       11.5|  0.5|    0.5|       2.5|         0.0|                  0.0|        15.0|                NULL| 2014-02-01 00:24:08|  2014-02-01 00:37:07|       NULL|   yellow|12.983333333333333|\n",
      "|       1|              1|          2.3|         1|                 N|         107|         140|           1|        9.0|  0.5|    0.5|       2.5|         0.0|                  0.0|        12.5|                NULL| 2014-02-01 00:00:23|  2014-02-01 00:09:26|       NULL|   yellow|              9.05|\n",
      "|       1|              1|          0.9|         1|                 N|         162|         141|           2|        5.0|  0.5|    0.5|       0.0|         0.0|                  0.0|         6.0|                NULL| 2014-02-01 00:18:58|  2014-02-01 00:22:34|       NULL|   yellow|               3.6|\n",
      "|       1|              1|          4.1|         1|                 N|         141|         112|           1|       22.5|  0.5|    0.5|      5.85|         0.0|                  0.0|       29.35|                NULL| 2014-02-01 00:24:05|  2014-02-01 00:56:09|       NULL|   yellow| 32.06666666666667|\n",
      "|       1|              3|          5.4|         1|                 Y|         237|          87|           1|       20.5|  0.5|    0.5|      5.37|         0.0|                  0.0|       26.87|                NULL| 2014-02-01 00:08:11|  2014-02-01 00:34:11|       NULL|   yellow|              26.0|\n",
      "|       1|              1|          5.2|         1|                 N|         211|         239|           1|       19.0|  0.5|    0.5|       3.0|         0.0|                  0.0|        23.0|                NULL| 2014-02-01 00:51:34|  2014-02-01 01:13:37|       NULL|   yellow|             22.05|\n",
      "|       1|              1|          1.0|         1|                 N|         246|          48|           1|        5.5|  0.5|    0.5|      1.62|         0.0|                  0.0|        8.12|                NULL| 2014-02-01 00:06:00|  2014-02-01 00:11:28|       NULL|   yellow| 5.466666666666667|\n",
      "|       1|              1|          0.9|         1|                 N|         230|         170|           2|        6.5|  0.5|    0.5|       0.0|         0.0|                  0.0|         7.5|                NULL| 2014-02-01 00:29:42|  2014-02-01 00:37:02|       NULL|   yellow| 7.333333333333333|\n",
      "+--------+---------------+-------------+----------+------------------+------------+------------+------------+-----------+-----+-------+----------+------------+---------------------+------------+--------------------+--------------------+---------------------+-----------+---------+------------------+\n",
      "only showing top 10 rows"
     ]
    }
   ],
   "source": [
    "from pyspark.sql.functions import col, unix_timestamp\n",
    "\n",
    "# Добавляем колонку - продолжительность поездки\n",
    "raw_trips_df = raw_trips_df.withColumn(\n",
    "    \"trip_duration_min\",\n",
    "    (unix_timestamp(col(\"tpep_dropoff_datetime\")) - unix_timestamp(col(\"tpep_pickup_datetime\"))) / 60\n",
    ")\n",
    "\n",
    "# Фильтры\n",
    "filtered_trips_df = raw_trips_df.filter(\n",
    "    (col(\"trip_distance\") >= 0.1) &\n",
    "    (col(\"fare_amount\") >= 2.0) &\n",
    "    (col(\"trip_duration_min\") >= 1)\n",
    ")\n",
    "\n",
    "filtered_trips_df.show(10)"
   ]
  },
  {
   "cell_type": "code",
   "execution_count": 12,
   "id": "d34b6da3-8144-4b04-9d1d-6ca62407c50a",
   "metadata": {
    "execution": {
     "iopub.execute_input": "2025-07-18T12:14:28.329428Z",
     "iopub.status.busy": "2025-07-18T12:14:28.329202Z",
     "iopub.status.idle": "2025-07-18T12:14:37.616709Z",
     "shell.execute_reply": "2025-07-18T12:14:37.615955Z",
     "shell.execute_reply.started": "2025-07-18T12:14:28.329403Z"
    },
    "tags": []
   },
   "outputs": [
    {
     "data": {
      "application/vnd.jupyter.widget-view+json": {
       "model_id": "f1af2f4ba538467ea027ed14cf757ab2",
       "version_major": 2,
       "version_minor": 0
      },
      "text/plain": [
       "VBox()"
      ]
     },
     "metadata": {},
     "output_type": "display_data"
    },
    {
     "data": {
      "application/vnd.jupyter.widget-view+json": {
       "model_id": "",
       "version_major": 2,
       "version_minor": 0
      },
      "text/plain": [
       "FloatProgress(value=0.0, bar_style='info', description='Progress:', layout=Layout(height='25px', width='50%'),…"
      ]
     },
     "metadata": {},
     "output_type": "display_data"
    },
    {
     "name": "stdout",
     "output_type": "stream",
     "text": [
      "+--------------------+-----------+------------------+------------------+\n",
      "|tpep_pickup_datetime|pickup_hour|pickup_day_of_week|duration_min      |\n",
      "+--------------------+-----------+------------------+------------------+\n",
      "|2014-02-01 00:05:03 |0          |Saturday          |10.683333333333334|\n",
      "|2014-02-01 00:17:19 |0          |Saturday          |2.933333333333333 |\n",
      "|2014-02-01 00:24:08 |0          |Saturday          |12.983333333333333|\n",
      "|2014-02-01 00:00:23 |0          |Saturday          |9.05              |\n",
      "|2014-02-01 00:18:58 |0          |Saturday          |3.6               |\n",
      "|2014-02-01 00:24:05 |0          |Saturday          |32.06666666666667 |\n",
      "|2014-02-01 00:08:11 |0          |Saturday          |26.0              |\n",
      "|2014-02-01 00:51:34 |0          |Saturday          |22.05             |\n",
      "|2014-02-01 00:06:00 |0          |Saturday          |5.466666666666667 |\n",
      "|2014-02-01 00:29:42 |0          |Saturday          |7.333333333333333 |\n",
      "+--------------------+-----------+------------------+------------------+\n",
      "only showing top 10 rows"
     ]
    }
   ],
   "source": [
    "from pyspark.sql.functions import hour, date_format, unix_timestamp, col\n",
    "\n",
    "# Добавляем колонку pickup_hour (час начала поездки)\n",
    "filtered_trips_df = filtered_trips_df.withColumn(\"pickup_hour\", hour(col(\"tpep_pickup_datetime\")))\n",
    "\n",
    "# Добавляем колонку pickup_day_of_week (день недели: Monday, Tuesday, …)\n",
    "filtered_trips_df = filtered_trips_df.withColumn(\"pickup_day_of_week\", date_format(col(\"tpep_pickup_datetime\"), \"EEEE\"))\n",
    "\n",
    "# Добавляем колонку duration_min (продолжительность в минутах)\n",
    "filtered_trips_df = filtered_trips_df.withColumn(\n",
    "    \"duration_min\",\n",
    "    (unix_timestamp(col(\"tpep_dropoff_datetime\")) - unix_timestamp(col(\"tpep_pickup_datetime\"))) / 60\n",
    ")\n",
    "\n",
    "filtered_trips_df.select(\"tpep_pickup_datetime\", \"pickup_hour\", \"pickup_day_of_week\", \"duration_min\").show(10, truncate=False)\n"
   ]
  },
  {
   "cell_type": "code",
   "execution_count": 13,
   "id": "5c14dc65-dc43-4732-9fb7-11292861df54",
   "metadata": {
    "execution": {
     "iopub.execute_input": "2025-07-18T12:15:45.395735Z",
     "iopub.status.busy": "2025-07-18T12:15:45.395413Z",
     "iopub.status.idle": "2025-07-18T12:15:54.676038Z",
     "shell.execute_reply": "2025-07-18T12:15:54.675392Z",
     "shell.execute_reply.started": "2025-07-18T12:15:45.395693Z"
    },
    "tags": []
   },
   "outputs": [
    {
     "data": {
      "application/vnd.jupyter.widget-view+json": {
       "model_id": "260af90e51f8449d9fc424f21399bb34",
       "version_major": 2,
       "version_minor": 0
      },
      "text/plain": [
       "VBox()"
      ]
     },
     "metadata": {},
     "output_type": "display_data"
    },
    {
     "data": {
      "application/vnd.jupyter.widget-view+json": {
       "model_id": "",
       "version_major": 2,
       "version_minor": 0
      },
      "text/plain": [
       "FloatProgress(value=0.0, bar_style='info', description='Progress:', layout=Layout(height='25px', width='50%'),…"
      ]
     },
     "metadata": {},
     "output_type": "display_data"
    }
   ],
   "source": [
    "# считываем taxi_zone_lookup.csv для соединения с датафреймом\n",
    "taxi_zones_df = spark.read \\\n",
    "    .option(\"header\", \"true\") \\\n",
    "    .option(\"inferSchema\", \"true\") \\\n",
    "    .csv(\"s3://robot-dreams-source-data/home-work-1-unified/nyc_taxi/taxi_zone_lookup.csv\")\n",
    "\n",
    "#taxi_zones_df.show(10)"
   ]
  },
  {
   "cell_type": "code",
   "execution_count": 14,
   "id": "d06c67e4-ff7f-4348-91a3-14ca1aaac148",
   "metadata": {
    "execution": {
     "iopub.execute_input": "2025-07-18T12:16:18.146039Z",
     "iopub.status.busy": "2025-07-18T12:16:18.145707Z",
     "iopub.status.idle": "2025-07-18T12:16:23.424353Z",
     "shell.execute_reply": "2025-07-18T12:16:23.423638Z",
     "shell.execute_reply.started": "2025-07-18T12:16:18.145996Z"
    },
    "tags": []
   },
   "outputs": [
    {
     "data": {
      "application/vnd.jupyter.widget-view+json": {
       "model_id": "7c260c8dab7e49e79258ae2f5c8b54f3",
       "version_major": 2,
       "version_minor": 0
      },
      "text/plain": [
       "VBox()"
      ]
     },
     "metadata": {},
     "output_type": "display_data"
    },
    {
     "data": {
      "application/vnd.jupyter.widget-view+json": {
       "model_id": "",
       "version_major": 2,
       "version_minor": 0
      },
      "text/plain": [
       "FloatProgress(value=0.0, bar_style='info', description='Progress:', layout=Layout(height='25px', width='50%'),…"
      ]
     },
     "metadata": {},
     "output_type": "display_data"
    },
    {
     "name": "stdout",
     "output_type": "stream",
     "text": [
      "+------------+-----------------------------+------------+-------------------------+\n",
      "|PULocationID|pickup_zone                  |DOLocationID|dropoff_zone             |\n",
      "+------------+-----------------------------+------------+-------------------------+\n",
      "|107         |Gramercy                     |249         |West Village             |\n",
      "|158         |Meatpacking/West Village West|90          |Flatiron                 |\n",
      "|234         |Union Sq                     |246         |West Chelsea/Hudson Yards|\n",
      "|107         |Gramercy                     |140         |Lenox Hill East          |\n",
      "|162         |Midtown East                 |141         |Lenox Hill West          |\n",
      "|141         |Lenox Hill West              |112         |Greenpoint               |\n",
      "|237         |Upper East Side South        |87          |Financial District North |\n",
      "|211         |SoHo                         |239         |Upper West Side South    |\n",
      "|246         |West Chelsea/Hudson Yards    |48          |Clinton East             |\n",
      "|230         |Times Sq/Theatre District    |170         |Murray Hill              |\n",
      "+------------+-----------------------------+------------+-------------------------+\n",
      "only showing top 10 rows"
     ]
    }
   ],
   "source": [
    "# JOIN для pickup_zone\n",
    "filtered_trips_df = filtered_trips_df.join(\n",
    "    taxi_zones_df.withColumnRenamed(\"LocationID\", \"PULocationID\").withColumnRenamed(\"Zone\", \"pickup_zone\"),\n",
    "    on=\"PULocationID\",\n",
    "    how=\"left\"\n",
    ")\n",
    "\n",
    "# JOIN для dropoff_zone\n",
    "filtered_trips_df = filtered_trips_df.join(\n",
    "    taxi_zones_df.withColumnRenamed(\"LocationID\", \"DOLocationID\").withColumnRenamed(\"Zone\", \"dropoff_zone\"),\n",
    "    on=\"DOLocationID\",\n",
    "    how=\"left\"\n",
    ")\n",
    "\n",
    "filtered_trips_df.select(\"PULocationID\", \"pickup_zone\", \"DOLocationID\", \"dropoff_zone\").show(10, truncate=False)"
   ]
  },
  {
   "cell_type": "code",
   "execution_count": null,
   "id": "41476a6c-efa5-4a08-98c4-1801e7cee1b1",
   "metadata": {},
   "outputs": [],
   "source": [
    "#df_with_zones.select(\"PULlocationID\", \"pickup_zone\", \"DOlocationID\", \"dropoff_zone\").show(5, truncate=False)\n"
   ]
  },
  {
   "cell_type": "code",
   "execution_count": 15,
   "id": "a080543f-7642-4022-8cff-fea8411ae32a",
   "metadata": {
    "execution": {
     "iopub.execute_input": "2025-07-18T12:16:58.929372Z",
     "iopub.status.busy": "2025-07-18T12:16:58.929160Z",
     "iopub.status.idle": "2025-07-18T12:19:04.535523Z",
     "shell.execute_reply": "2025-07-18T12:19:04.534882Z",
     "shell.execute_reply.started": "2025-07-18T12:16:58.929348Z"
    },
    "tags": []
   },
   "outputs": [
    {
     "data": {
      "application/vnd.jupyter.widget-view+json": {
       "model_id": "fd667a476ca1411b82fbad921d4ab25f",
       "version_major": 2,
       "version_minor": 0
      },
      "text/plain": [
       "VBox()"
      ]
     },
     "metadata": {},
     "output_type": "display_data"
    },
    {
     "data": {
      "application/vnd.jupyter.widget-view+json": {
       "model_id": "",
       "version_major": 2,
       "version_minor": 0
      },
      "text/plain": [
       "FloatProgress(value=0.0, bar_style='info', description='Progress:', layout=Layout(height='25px', width='50%'),…"
      ]
     },
     "metadata": {},
     "output_type": "display_data"
    },
    {
     "name": "stdout",
     "output_type": "stream",
     "text": [
      "+------------------------------+-----------+------------------+------------------+------------------+-----------------+--------------+------------+-----------+\n",
      "|pickup_zone                   |total_trips|avg_trip_distance |avg_total_amount  |avg_tip_amount    |max_trip_distance|min_tip_amount|yellow_share|green_share|\n",
      "+------------------------------+-----------+------------------+------------------+------------------+-----------------+--------------+------------+-----------+\n",
      "|Pelham Parkway                |9879       |5.780610385666564 |25.234409353173394|1.185459054560178 |104.15           |0.0           |1.0         |0.0        |\n",
      "|Rego Park                     |70131      |5.716086324164775 |24.61390141306976 |2.012534257318447 |46532.54         |0.0           |1.0         |0.0        |\n",
      "|Kew Gardens Hills             |18556      |9.904392110368615 |26.047876697564142|1.5367821728820863|68704.94         |0.0           |1.0         |0.0        |\n",
      "|Jackson Heights               |403558     |3.8538747342389446|16.126009024725555|0.9645917563274665|106647.2         |0.0           |1.0         |0.0        |\n",
      "|Yorkville West                |13157794   |5.71520053361527  |13.977456634458896|1.5690702658819708|1.46800001E7     |0.0           |1.0         |0.0        |\n",
      "|Stuy Town/Peter Cooper Village|2159027    |10.692052387487495|14.371055271655399|1.6165367871731122|8000040.0        |0.0           |1.0         |0.0        |\n",
      "|Clinton Hill                  |345286     |6.309930173826915 |15.763125640773312|1.5687814449470865|250051.0         |0.0           |1.0         |0.0        |\n",
      "|East Harlem South             |4687490    |3.410666612622106 |14.038094120732726|1.2757266127501088|833180.0         |-0.07         |1.0         |0.0        |\n",
      "|Longwood                      |8258       |7.936714700896102 |24.627065875514628|0.976932671348995 |10973.55         |0.0           |1.0         |0.0        |\n",
      "|Hudson Sq                     |4385362    |6.59336750079015  |15.781980648347199|1.9057456807442792|1.46645031E7     |0.0           |1.0         |0.0        |\n",
      "|Upper East Side North         |25942621   |3.572746056768895 |13.280455949295478|1.4655279695910683|1.18000052E7     |-4.42         |1.0         |0.0        |\n",
      "|Prospect Park                 |43043      |7.590780614734105 |17.863901447389853|1.757327323838952 |86205.0          |0.0           |1.0         |0.0        |\n",
      "|East Elmhurst                 |391847     |10.061905309980672|47.281029968328404|5.772969322209954 |175262.86        |0.0           |1.0         |0.0        |\n",
      "|Union Sq                      |23388308   |4.251966180281167 |14.212044217983912|1.6732211466515767|1.18000021E7     |0.0           |1.0         |0.0        |\n",
      "|South Jamaica                 |57238      |17.861102589188995|62.933850414060586|6.017476152206581 |180827.51        |0.0           |1.0         |0.0        |\n",
      "|Downtown Brooklyn/MetroTech   |990473     |5.23087421868138  |18.685480078709674|1.932084014405241 |450000.0         |0.0           |1.0         |0.0        |\n",
      "|Saint George/New Brighton     |2121       |5.988491277699198 |26.805205091937765|1.7451249410655354|39.4             |0.0           |1.0         |0.0        |\n",
      "|East Harlem North             |2451084    |9.648478354883014 |13.775186125809437|1.0037984581515795|8331800.0        |0.0           |1.0         |0.0        |\n",
      "|Canarsie                      |26073      |9.682629156598777 |35.19899091013693 |1.4788823687339385|32360.73         |0.0           |1.0         |0.0        |\n",
      "|Sheepshead Bay                |10686      |9.070634475014035 |34.91761650758002 |1.33468931311997  |190.2            |0.0           |1.0         |0.0        |\n",
      "+------------------------------+-----------+------------------+------------------+------------------+-----------------+--------------+------------+-----------+\n",
      "only showing top 20 rows"
     ]
    }
   ],
   "source": [
    "from pyspark.sql.functions import col, count, avg, max, min, sum as spark_sum, when\n",
    "\n",
    "# Общее кол-во поездок в зоне\n",
    "zone_summary = filtered_trips_df.groupBy(\"pickup_zone\").agg(\n",
    "    count(\"*\").alias(\"total_trips\"),\n",
    "    avg(\"trip_distance\").alias(\"avg_trip_distance\"),\n",
    "    avg(\"total_amount\").alias(\"avg_total_amount\"),\n",
    "    avg(\"tip_amount\").alias(\"avg_tip_amount\"),\n",
    "    spark_sum(when(col(\"taxi_type\") == \"yellow\", 1).otherwise(0)).alias(\"yellow_trips\"),\n",
    "    spark_sum(when(col(\"taxi_type\") == \"green\", 1).otherwise(0)).alias(\"green_trips\"),\n",
    "    max(\"trip_distance\").alias(\"max_trip_distance\"),\n",
    "    min(\"tip_amount\").alias(\"min_tip_amount\")\n",
    ")\n",
    "\n",
    "# часть зеленых и желтых поездок\n",
    "zone_summary = zone_summary.withColumn(\"yellow_share\", col(\"yellow_trips\") / col(\"total_trips\")) \\\n",
    "                           .withColumn(\"green_share\", col(\"green_trips\") / col(\"total_trips\")) \\\n",
    "                           .drop(\"yellow_trips\", \"green_trips\")\n",
    "\n",
    "zone_summary.show(truncate=False)\n"
   ]
  },
  {
   "cell_type": "code",
   "execution_count": 16,
   "id": "03f73c9f-cfb3-49db-b354-4ebc7094957c",
   "metadata": {
    "execution": {
     "iopub.execute_input": "2025-07-18T12:22:57.906647Z",
     "iopub.status.busy": "2025-07-18T12:22:57.906411Z",
     "iopub.status.idle": "2025-07-18T12:25:07.530203Z",
     "shell.execute_reply": "2025-07-18T12:25:07.529509Z",
     "shell.execute_reply.started": "2025-07-18T12:22:57.906620Z"
    },
    "tags": []
   },
   "outputs": [
    {
     "data": {
      "application/vnd.jupyter.widget-view+json": {
       "model_id": "a309e89874554218a1858724bfc03cfa",
       "version_major": 2,
       "version_minor": 0
      },
      "text/plain": [
       "VBox()"
      ]
     },
     "metadata": {},
     "output_type": "display_data"
    },
    {
     "data": {
      "application/vnd.jupyter.widget-view+json": {
       "model_id": "",
       "version_major": 2,
       "version_minor": 0
      },
      "text/plain": [
       "FloatProgress(value=0.0, bar_style='info', description='Progress:', layout=Layout(height='25px', width='50%'),…"
      ]
     },
     "metadata": {},
     "output_type": "display_data"
    }
   ],
   "source": [
    "from datetime import datetime\n",
    "\n",
    "# Подготовим дату и путь\n",
    "today_str = datetime.today().strftime('%Y-%m-%d')\n",
    "\n",
    "output_path = f\"s3://izabelkin-emr-studio/results/zone_statistic/{today_str}/zone_statistic.parquet\"\n",
    "\n",
    "# Сохраняем в один parquet-файл\n",
    "zone_summary \\\n",
    "    .coalesce(1) \\\n",
    "    .write \\\n",
    "    .mode(\"overwrite\") \\\n",
    "    .parquet(output_path)\n"
   ]
  },
  {
   "cell_type": "code",
   "execution_count": 18,
   "id": "ac2e59a5-f5ac-4041-b4e4-d037eb8a5eb4",
   "metadata": {
    "execution": {
     "iopub.execute_input": "2025-07-18T12:28:53.581331Z",
     "iopub.status.busy": "2025-07-18T12:28:53.581093Z",
     "iopub.status.idle": "2025-07-18T12:32:19.378428Z",
     "shell.execute_reply": "2025-07-18T12:32:19.377707Z",
     "shell.execute_reply.started": "2025-07-18T12:28:53.581307Z"
    },
    "tags": []
   },
   "outputs": [
    {
     "data": {
      "application/vnd.jupyter.widget-view+json": {
       "model_id": "e644639ec0fe4cb2a3f4616adf1bde2a",
       "version_major": 2,
       "version_minor": 0
      },
      "text/plain": [
       "VBox()"
      ]
     },
     "metadata": {},
     "output_type": "display_data"
    },
    {
     "data": {
      "application/vnd.jupyter.widget-view+json": {
       "model_id": "",
       "version_major": 2,
       "version_minor": 0
      },
      "text/plain": [
       "FloatProgress(value=0.0, bar_style='info', description='Progress:', layout=Layout(height='25px', width='50%'),…"
      ]
     },
     "metadata": {},
     "output_type": "display_data"
    }
   ],
   "source": [
    "from pyspark.sql.functions import count, sum as _sum, when, col, to_date\n",
    "from datetime import datetime\n",
    "\n",
    "# Агрегация по зонам и дням недели\n",
    "zone_day_stats = filtered_trips_df.groupBy(\"pickup_zone\", \"pickup_day_of_week\").agg(\n",
    "    count(\"*\").alias(\"total_trips\"),\n",
    "    _sum(when(col(\"total_amount\") > 30, 1).otherwise(0)).alias(\"high_fare_trips\")\n",
    ")\n",
    "\n",
    "# Расчет дорогих поездок \n",
    "zone_day_stats = zone_day_stats.withColumn(\n",
    "    \"high_fare_share\", col(\"high_fare_trips\") / col(\"total_trips\")\n",
    ").drop(\"high_fare_trips\")\n",
    "\n",
    "# Формування шляху до S3 з датою\n",
    "today_str = datetime.today().strftime(\"%Y-%m-%d\")\n",
    "output_path = f\"s3://izabelkin-emr-studio/results/zone_days_statstic/{today_str}/zone_days_statstic.parquet\"\n",
    "\n",
    "# Запис у S3 (одним файлом)\n",
    "zone_day_stats.coalesce(1).write.mode(\"overwrite\").parquet(output_path)\n"
   ]
  },
  {
   "cell_type": "code",
   "execution_count": null,
   "id": "3ac84143-f214-4b80-a6a5-291b848adb21",
   "metadata": {},
   "outputs": [],
   "source": []
  }
 ],
 "metadata": {
  "kernelspec": {
   "display_name": "PySpark",
   "language": "python",
   "name": "pysparkkernel"
  },
  "language_info": {
   "codemirror_mode": {
    "name": "python",
    "version": 3
   },
   "file_extension": ".py",
   "mimetype": "text/x-python",
   "name": "pyspark",
   "pygments_lexer": "python3"
  }
 },
 "nbformat": 4,
 "nbformat_minor": 5
}
